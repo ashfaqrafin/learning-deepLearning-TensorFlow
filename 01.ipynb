{
 "cells": [
  {
   "cell_type": "code",
   "execution_count": 1,
   "id": "e6c93c74-a37e-4e26-9ce9-06058660f82e",
   "metadata": {},
   "outputs": [
    {
     "name": "stdout",
     "output_type": "stream",
     "text": [
      "2.13.0\n"
     ]
    }
   ],
   "source": [
    "import tensorflow as tf\n",
    "print(tf.__version__)"
   ]
  },
  {
   "cell_type": "code",
   "execution_count": 2,
   "id": "fe24d261-1e89-4fee-ab93-8c92fdbccb4d",
   "metadata": {},
   "outputs": [],
   "source": [
    "# Creating data to view and feed"
   ]
  },
  {
   "cell_type": "code",
   "execution_count": 3,
   "id": "d253cfda-7247-4912-9172-099da4458ee5",
   "metadata": {},
   "outputs": [
    {
     "data": {
      "image/png": "[encoded data removed]",
      "text/plain": [
       "<Figure size 640x480 with 1 Axes>"
      ]
     },
     "metadata": {},
     "output_type": "display_data"
    }
   ],
   "source": [
    "import numpy as np\n",
    "import matplotlib.pyplot as plt\n",
    "\n",
    "#Create the features\n",
    "x=np.array([-7.0,-4.0,-1.0,2.0,5.0,8.0,11.0,14.0])\n",
    "\n",
    "#Create labels\n",
    "y=np.array([3.0,6.0,9.0,12.0,15.0,18.0,21.0,24.0])\n",
    "\n",
    "#Visulize it\n",
    "plt.scatter(x,y);"
   ]
  },
  {
   "cell_type": "code",
   "execution_count": 4,
   "id": "47653d30-eba2-4bdb-9760-367874f2addf",
   "metadata": {},
   "outputs": [
    {
     "data": {
      "text/plain": [
       "array([ True,  True,  True,  True,  True,  True,  True,  True])"
      ]
     },
     "execution_count": 4,
     "metadata": {},
     "output_type": "execute_result"
    }
   ],
   "source": [
    "y==x+10"
   ]
  },
  {
   "cell_type": "code",
   "execution_count": 5,
   "id": "d7702353-140e-4c54-84f9-b3150fd99cc2",
   "metadata": {},
   "outputs": [],
   "source": [
    "# Inputs and Outputs Shapes"
   ]
  },
  {
   "cell_type": "code",
   "execution_count": 22,
   "id": "6d85213b-cea2-4b7e-beee-131fafb97acd",
   "metadata": {},
   "outputs": [
    {
     "data": {
      "text/plain": [
       "(<tf.Tensor: shape=(3,), dtype=string, numpy=array([b'beadroom', b'bathroom', b'garage'], dtype=object)>,\n",
       " <tf.Tensor: shape=(1,), dtype=int32, numpy=array([939700], dtype=int32)>)"
      ]
     },
     "execution_count": 22,
     "metadata": {},
     "output_type": "execute_result"
    }
   ],
   "source": [
    "# Create a demo tensor for our housing price prediction problem\n",
    "house_info=tf.constant([\"beadroom\",\"bathroom\",\"garage\"])\n",
    "house_price=tf.constant([939700])\n",
    "house_info,house_price"
   ]
  },
  {
   "cell_type": "code",
   "execution_count": 23,
   "id": "2699195f-7ef7-4b5f-9e11-f884ab7c10f4",
   "metadata": {},
   "outputs": [
    {
     "data": {
      "text/plain": [
       "(<tf.Tensor: shape=(), dtype=float32, numpy=-7.0>,\n",
       " <tf.Tensor: shape=(), dtype=float32, numpy=3.0>)"
      ]
     },
     "execution_count": 23,
     "metadata": {},
     "output_type": "execute_result"
    }
   ],
   "source": [
    "x[0],y[0]"
   ]
  },
  {
   "cell_type": "code",
   "execution_count": 24,
   "id": "4c1e9304-c84e-433b-8084-650e98ccabf2",
   "metadata": {},
   "outputs": [
    {
     "data": {
      "text/plain": [
       "(<tf.Tensor: shape=(), dtype=float32, numpy=-4.0>,\n",
       " <tf.Tensor: shape=(), dtype=float32, numpy=6.0>)"
      ]
     },
     "execution_count": 24,
     "metadata": {},
     "output_type": "execute_result"
    }
   ],
   "source": [
    "x[1],y[1]"
   ]
  },
  {
   "cell_type": "code",
   "execution_count": 25,
   "id": "01853672-ecba-4ad0-b765-9e82bbe12b43",
   "metadata": {},
   "outputs": [
    {
     "data": {
      "text/plain": [
       "(TensorShape([]), TensorShape([]))"
      ]
     },
     "execution_count": 25,
     "metadata": {},
     "output_type": "execute_result"
    }
   ],
   "source": [
    "input_shape=x[0].shape\n",
    "output_shape=y[0].shape\n",
    "input_shape,output_shape"
   ]
  },
  {
   "cell_type": "code",
   "execution_count": 26,
   "id": "4d98d92d-a412-4694-a94b-4302a1cdb901",
   "metadata": {},
   "outputs": [
    {
     "data": {
      "text/plain": [
       "0"
      ]
     },
     "execution_count": 26,
     "metadata": {},
     "output_type": "execute_result"
    }
   ],
   "source": [
    "x[0].ndim"
   ]
  },
  {
   "cell_type": "code",
   "execution_count": 27,
   "id": "b227e647-cb44-42af-bb6e-169019cec64e",
   "metadata": {},
   "outputs": [],
   "source": [
    "# Turn our Numpy arrays into tensor"
   ]
  },
  {
   "cell_type": "code",
   "execution_count": 28,
   "id": "5a107571-8381-4cdc-acec-c8db546c5585",
   "metadata": {},
   "outputs": [
    {
     "data": {
      "text/plain": [
       "(<tf.Tensor: shape=(8,), dtype=float32, numpy=array([-7., -4., -1.,  2.,  5.,  8., 11., 14.], dtype=float32)>,\n",
       " <tf.Tensor: shape=(8,), dtype=float32, numpy=array([ 3.,  6.,  9., 12., 15., 18., 21., 24.], dtype=float32)>)"
      ]
     },
     "execution_count": 28,
     "metadata": {},
     "output_type": "execute_result"
    }
   ],
   "source": [
    "x=tf.cast(tf.constant(x),dtype=tf.float32)\n",
    "y=tf.cast(tf.constant(y),dtype=tf.float32)\n",
    "x,y"
   ]
  },
  {
   "cell_type": "code",
   "execution_count": 29,
   "id": "e4f9df7b-02af-4294-ad9a-81fc542d7ff3",
   "metadata": {},
   "outputs": [
    {
     "data": {
      "text/plain": [
       "(TensorShape([]), TensorShape([]))"
      ]
     },
     "execution_count": 29,
     "metadata": {},
     "output_type": "execute_result"
    }
   ],
   "source": [
    "input_shape=x[0].shape\n",
    "output_shape=y[0].shape\n",
    "input_shape,output_shape"
   ]
  },
  {
   "cell_type": "code",
   "execution_count": 30,
   "id": "060af9e2-9bfe-4303-93b8-e7b290305fca",
   "metadata": {},
   "outputs": [
    {
     "data": {
      "text/plain": [
       "<matplotlib.collections.PathCollection at 0x2af1b34c0>"
      ]
     },
     "execution_count": 30,
     "metadata": {},
     "output_type": "execute_result"
    },
    {
     "data": {
      "image/png": "[encoded data removed]",
      "text/plain": [
       "<Figure size 640x480 with 1 Axes>"
      ]
     },
     "metadata": {},
     "output_type": "display_data"
    }
   ],
   "source": [
    "plt.scatter(x,y)"
   ]
  },
  {
   "cell_type": "code",
   "execution_count": 31,
   "id": "da933ae8-1003-4900-840a-e976af57ff94",
   "metadata": {},
   "outputs": [],
   "source": [
    "#Modelling with Tensorflow"
   ]
  },
  {
   "cell_type": "code",
   "execution_count": 32,
   "id": "0c9b2dd8-9555-4481-901c-7723d2ae5186",
   "metadata": {},
   "outputs": [
    {
     "name": "stdout",
     "output_type": "stream",
     "text": [
      "Epoch 1/5\n",
      "1/1 [==============================] - 0s 109ms/step - loss: 14.2453 - mae: 14.2453\n",
      "Epoch 2/5\n",
      "1/1 [==============================] - 0s 5ms/step - loss: 14.1128 - mae: 14.1128\n",
      "Epoch 3/5\n",
      "1/1 [==============================] - 0s 5ms/step - loss: 13.9803 - mae: 13.9803\n",
      "Epoch 4/5\n",
      "1/1 [==============================] - 0s 7ms/step - loss: 13.8478 - mae: 13.8478\n",
      "Epoch 5/5\n",
      "1/1 [==============================] - 0s 5ms/step - loss: 13.7153 - mae: 13.7153\n"
     ]
    },
    {
     "name": "stderr",
     "output_type": "stream",
     "text": [
      "2023-08-17 09:24:43.591751: I tensorflow/core/grappler/optimizers/custom_graph_optimizer_registry.cc:114] Plugin optimizer for device_type GPU is enabled.\n"
     ]
    },
    {
     "data": {
      "text/plain": [
       "<keras.src.callbacks.History at 0x2af32a710>"
      ]
     },
     "execution_count": 32,
     "metadata": {},
     "output_type": "execute_result"
    }
   ],
   "source": [
    "# 1.Create a model using the Sequential API\n",
    "tf.random.set_seed(42)\n",
    "model=tf.keras.Sequential([\n",
    "    tf.keras.layers.Dense(1)\n",
    "])\n",
    "\n",
    "# 2. Compile the model\n",
    "model.compile(loss=tf.keras.losses.mae, # mae is short for mean absolute error\n",
    "              optimizer=tf.keras.optimizers.legacy.SGD(), # SGD is short for stochastic gradient descent\n",
    "              metrics=[\"mae\"])\n",
    "# 3. Fit the model\n",
    "# model.fit(x,y,epochs=5)\n",
    "model.fit(tf.expand_dims(x, axis=-1), y, epochs=5)\n",
    "\n",
    "# 4.Evaluate the model\n",
    "# model.evaluate(x_test,y_test)"
   ]
  },
  {
   "cell_type": "code",
   "execution_count": 33,
   "id": "965fcad3-26a9-44ed-b310-9705f0874ea9",
   "metadata": {},
   "outputs": [
    {
     "data": {
      "text/plain": [
       "(<tf.Tensor: shape=(8,), dtype=float32, numpy=array([-7., -4., -1.,  2.,  5.,  8., 11., 14.], dtype=float32)>,\n",
       " <tf.Tensor: shape=(8,), dtype=float32, numpy=array([ 3.,  6.,  9., 12., 15., 18., 21., 24.], dtype=float32)>)"
      ]
     },
     "execution_count": 33,
     "metadata": {},
     "output_type": "execute_result"
    }
   ],
   "source": [
    "x,y"
   ]
  },
  {
   "cell_type": "code",
   "execution_count": 34,
   "id": "d0a6cd51-b6d1-47f9-b061-323b8973229f",
   "metadata": {},
   "outputs": [
    {
     "name": "stdout",
     "output_type": "stream",
     "text": [
      "1/1 [==============================] - 0s 35ms/step\n"
     ]
    },
    {
     "name": "stderr",
     "output_type": "stream",
     "text": [
      "2023-08-17 09:24:44.730994: I tensorflow/core/grappler/optimizers/custom_graph_optimizer_registry.cc:114] Plugin optimizer for device_type GPU is enabled.\n"
     ]
    },
    {
     "data": {
      "text/plain": [
       "array([[-0.59506494]], dtype=float32)"
      ]
     },
     "execution_count": 34,
     "metadata": {},
     "output_type": "execute_result"
    }
   ],
   "source": [
    "# try and make a prediction using our model\n",
    "y_pred=model.predict([17.0])\n",
    "y_pred"
   ]
  },
  {
   "cell_type": "code",
   "execution_count": 35,
   "id": "de132427-2fca-4b15-8e38-10867b183629",
   "metadata": {},
   "outputs": [],
   "source": [
    "# Imporving our model"
   ]
  },
  {
   "cell_type": "code",
   "execution_count": 36,
   "id": "31095f76-7c99-47f9-9b21-1f3fbb12d379",
   "metadata": {},
   "outputs": [
    {
     "name": "stdout",
     "output_type": "stream",
     "text": [
      "Epoch 1/5\n",
      "1/1 [==============================] - 0s 181ms/step - loss: 10.9626 - mae: 10.9626\n",
      "Epoch 2/5\n",
      "1/1 [==============================] - 0s 5ms/step - loss: 10.9621 - mae: 10.9621\n",
      "Epoch 3/5\n",
      "1/1 [==============================] - 0s 5ms/step - loss: 10.9617 - mae: 10.9617\n",
      "Epoch 4/5\n",
      "1/1 [==============================] - 0s 6ms/step - loss: 10.9612 - mae: 10.9612\n",
      "Epoch 5/5\n",
      "1/1 [==============================] - 0s 6ms/step - loss: 10.9608 - mae: 10.9608\n"
     ]
    },
    {
     "name": "stderr",
     "output_type": "stream",
     "text": [
      "2023-08-17 09:24:46.388456: I tensorflow/core/grappler/optimizers/custom_graph_optimizer_registry.cc:114] Plugin optimizer for device_type GPU is enabled.\n"
     ]
    },
    {
     "data": {
      "text/plain": [
       "<keras.src.callbacks.History at 0x2af40ca90>"
      ]
     },
     "execution_count": 36,
     "metadata": {},
     "output_type": "execute_result"
    }
   ],
   "source": [
    "# 1. Create the model\n",
    "model=tf.keras.Sequential(\n",
    "    [tf.keras.layers.Dense(1)]\n",
    ")\n",
    "#2.Compile the model \n",
    "model.compile(loss=tf.keras.losses.mae,\n",
    "             optimizer=tf.keras.optimizers.legacy.Adam(lr=0.0001),\n",
    "             metrics=[\"mae\"] \n",
    "             )\n",
    "\n",
    "# 3. Fit the model\n",
    "model.fit(tf.expand_dims(x, axis=-1), y, epochs=5)"
   ]
  },
  {
   "cell_type": "code",
   "execution_count": 37,
   "id": "9d963592-a5fc-477b-a5f7-cf4640fe8629",
   "metadata": {},
   "outputs": [
    {
     "name": "stdout",
     "output_type": "stream",
     "text": [
      "1/1 [==============================] - 0s 33ms/step\n"
     ]
    },
    {
     "name": "stderr",
     "output_type": "stream",
     "text": [
      "2023-08-17 09:24:49.445112: I tensorflow/core/grappler/optimizers/custom_graph_optimizer_registry.cc:114] Plugin optimizer for device_type GPU is enabled.\n"
     ]
    },
    {
     "data": {
      "text/plain": [
       "array([[12.33369]], dtype=float32)"
      ]
     },
     "execution_count": 37,
     "metadata": {},
     "output_type": "execute_result"
    }
   ],
   "source": [
    "y_pred=model.predict([17.0])\n",
    "y_pred"
   ]
  },
  {
   "cell_type": "code",
   "execution_count": 57,
   "id": "aef0126f-d466-420a-b2ff-fbdd5f21b15d",
   "metadata": {},
   "outputs": [
    {
     "name": "stdout",
     "output_type": "stream",
     "text": [
      "Epoch 1/100\n",
      "1/1 [==============================] - 0s 118ms/step - loss: 20.9610 - mae: 20.9610\n",
      "Epoch 2/100\n",
      "1/1 [==============================] - 0s 7ms/step - loss: 20.5754 - mae: 20.5754\n",
      "Epoch 3/100\n",
      "1/1 [==============================] - 0s 5ms/step - loss: 20.2941 - mae: 20.2941\n",
      "Epoch 4/100\n",
      "1/1 [==============================] - 0s 7ms/step - loss: 20.0129 - mae: 20.0129\n",
      "Epoch 5/100\n",
      "1/1 [==============================] - 0s 11ms/step - loss: 19.7316 - mae: 19.7316\n",
      "Epoch 6/100\n",
      "1/1 [==============================] - 0s 6ms/step - loss: 19.4504 - mae: 19.4504\n",
      "Epoch 7/100\n",
      "1/1 [==============================] - 0s 5ms/step - loss: 19.1691 - mae: 19.1691\n",
      "Epoch 8/100\n",
      "1/1 [==============================] - 0s 7ms/step - loss: 18.8879 - mae: 18.8879\n",
      "Epoch 9/100\n",
      "1/1 [==============================] - 0s 10ms/step - loss: 18.6066 - mae: 18.6066\n",
      "Epoch 10/100\n",
      "1/1 [==============================] - 0s 6ms/step - loss: 18.3254 - mae: 18.3254\n",
      "Epoch 11/100\n",
      "1/1 [==============================] - 0s 5ms/step - loss: 18.0441 - mae: 18.0441\n",
      "Epoch 12/100\n",
      "1/1 [==============================] - 0s 5ms/step - loss: 17.7629 - mae: 17.7629\n",
      "Epoch 13/100\n",
      "1/1 [==============================] - 0s 9ms/step - loss: 17.4816 - mae: 17.4816\n",
      "Epoch 14/100\n",
      "1/1 [==============================] - 0s 6ms/step - loss: 17.2004 - mae: 17.2004\n",
      "Epoch 15/100\n",
      "1/1 [==============================] - 0s 8ms/step - loss: 16.9191 - mae: 16.9191\n",
      "Epoch 16/100\n",
      "1/1 [==============================] - 0s 5ms/step - loss: 16.6379 - mae: 16.6379\n",
      "Epoch 17/100\n",
      "1/1 [==============================] - 0s 7ms/step - loss: 16.3566 - mae: 16.3566\n",
      "Epoch 18/100\n",
      "1/1 [==============================] - 0s 5ms/step - loss: 16.0754 - mae: 16.0754\n",
      "Epoch 19/100\n",
      "1/1 [==============================] - 0s 5ms/step - loss: 15.7941 - mae: 15.7941\n"
     ]
    },
    {
     "name": "stderr",
     "output_type": "stream",
     "text": [
      "2023-08-17 09:58:48.635916: I tensorflow/core/grappler/optimizers/custom_graph_optimizer_registry.cc:114] Plugin optimizer for device_type GPU is enabled.\n"
     ]
    },
    {
     "name": "stdout",
     "output_type": "stream",
     "text": [
      "Epoch 20/100\n",
      "1/1 [==============================] - 0s 7ms/step - loss: 15.5129 - mae: 15.5129\n",
      "Epoch 21/100\n",
      "1/1 [==============================] - 0s 6ms/step - loss: 15.2316 - mae: 15.2316\n",
      "Epoch 22/100\n",
      "1/1 [==============================] - 0s 7ms/step - loss: 14.9504 - mae: 14.9504\n",
      "Epoch 23/100\n",
      "1/1 [==============================] - 0s 5ms/step - loss: 14.6982 - mae: 14.6982\n",
      "Epoch 24/100\n",
      "1/1 [==============================] - 0s 22ms/step - loss: 14.5657 - mae: 14.5657\n",
      "Epoch 25/100\n",
      "1/1 [==============================] - 0s 9ms/step - loss: 14.4332 - mae: 14.4332\n",
      "Epoch 26/100\n",
      "1/1 [==============================] - 0s 5ms/step - loss: 14.3007 - mae: 14.3007\n",
      "Epoch 27/100\n",
      "1/1 [==============================] - 0s 5ms/step - loss: 14.1682 - mae: 14.1682\n",
      "Epoch 28/100\n",
      "1/1 [==============================] - 0s 6ms/step - loss: 14.0357 - mae: 14.0357\n",
      "Epoch 29/100\n",
      "1/1 [==============================] - 0s 5ms/step - loss: 13.9032 - mae: 13.9032\n",
      "Epoch 30/100\n",
      "1/1 [==============================] - 0s 5ms/step - loss: 13.7707 - mae: 13.7707\n",
      "Epoch 31/100\n",
      "1/1 [==============================] - 0s 5ms/step - loss: 13.6382 - mae: 13.6382\n",
      "Epoch 32/100\n",
      "1/1 [==============================] - 0s 6ms/step - loss: 13.5057 - mae: 13.5057\n",
      "Epoch 33/100\n",
      "1/1 [==============================] - 0s 6ms/step - loss: 13.3732 - mae: 13.3732\n",
      "Epoch 34/100\n",
      "1/1 [==============================] - 0s 5ms/step - loss: 13.2407 - mae: 13.2407\n",
      "Epoch 35/100\n",
      "1/1 [==============================] - 0s 6ms/step - loss: 13.1082 - mae: 13.1082\n",
      "Epoch 36/100\n",
      "1/1 [==============================] - 0s 5ms/step - loss: 12.9757 - mae: 12.9757\n",
      "Epoch 37/100\n",
      "1/1 [==============================] - 0s 6ms/step - loss: 12.8432 - mae: 12.8432\n",
      "Epoch 38/100\n",
      "1/1 [==============================] - 0s 5ms/step - loss: 12.7107 - mae: 12.7107\n",
      "Epoch 39/100\n",
      "1/1 [==============================] - 0s 5ms/step - loss: 12.5782 - mae: 12.5782\n",
      "Epoch 40/100\n",
      "1/1 [==============================] - 0s 6ms/step - loss: 12.4457 - mae: 12.4457\n",
      "Epoch 41/100\n",
      "1/1 [==============================] - 0s 5ms/step - loss: 12.3132 - mae: 12.3132\n",
      "Epoch 42/100\n",
      "1/1 [==============================] - 0s 8ms/step - loss: 12.1807 - mae: 12.1807\n",
      "Epoch 43/100\n",
      "1/1 [==============================] - 0s 5ms/step - loss: 12.0482 - mae: 12.0482\n",
      "Epoch 44/100\n",
      "1/1 [==============================] - 0s 5ms/step - loss: 11.9157 - mae: 11.9157\n",
      "Epoch 45/100\n",
      "1/1 [==============================] - 0s 5ms/step - loss: 11.7832 - mae: 11.7832\n",
      "Epoch 46/100\n",
      "1/1 [==============================] - 0s 6ms/step - loss: 11.6507 - mae: 11.6507\n",
      "Epoch 47/100\n",
      "1/1 [==============================] - 0s 6ms/step - loss: 11.5182 - mae: 11.5182\n",
      "Epoch 48/100\n",
      "1/1 [==============================] - 0s 5ms/step - loss: 11.3857 - mae: 11.3857\n",
      "Epoch 49/100\n",
      "1/1 [==============================] - 0s 5ms/step - loss: 11.2532 - mae: 11.2532\n",
      "Epoch 50/100\n",
      "1/1 [==============================] - 0s 5ms/step - loss: 11.1207 - mae: 11.1207\n",
      "Epoch 51/100\n",
      "1/1 [==============================] - 0s 6ms/step - loss: 10.9882 - mae: 10.9882\n",
      "Epoch 52/100\n",
      "1/1 [==============================] - 0s 6ms/step - loss: 10.8557 - mae: 10.8557\n",
      "Epoch 53/100\n",
      "1/1 [==============================] - 0s 5ms/step - loss: 10.7232 - mae: 10.7232\n",
      "Epoch 54/100\n",
      "1/1 [==============================] - 0s 6ms/step - loss: 10.5907 - mae: 10.5907\n",
      "Epoch 55/100\n",
      "1/1 [==============================] - 0s 5ms/step - loss: 10.4582 - mae: 10.4582\n",
      "Epoch 56/100\n",
      "1/1 [==============================] - 0s 7ms/step - loss: 10.3257 - mae: 10.3257\n",
      "Epoch 57/100\n",
      "1/1 [==============================] - 0s 5ms/step - loss: 10.1932 - mae: 10.1932\n",
      "Epoch 58/100\n",
      "1/1 [==============================] - 0s 5ms/step - loss: 10.0607 - mae: 10.0607\n",
      "Epoch 59/100\n",
      "1/1 [==============================] - 0s 5ms/step - loss: 9.9282 - mae: 9.9282\n",
      "Epoch 60/100\n",
      "1/1 [==============================] - 0s 5ms/step - loss: 9.7957 - mae: 9.7957\n",
      "Epoch 61/100\n",
      "1/1 [==============================] - 0s 6ms/step - loss: 9.6632 - mae: 9.6632\n",
      "Epoch 62/100\n",
      "1/1 [==============================] - 0s 5ms/step - loss: 9.5307 - mae: 9.5307\n",
      "Epoch 63/100\n",
      "1/1 [==============================] - 0s 5ms/step - loss: 9.3982 - mae: 9.3982\n",
      "Epoch 64/100\n",
      "1/1 [==============================] - 0s 5ms/step - loss: 9.2657 - mae: 9.2657\n",
      "Epoch 65/100\n",
      "1/1 [==============================] - 0s 5ms/step - loss: 9.1332 - mae: 9.1332\n",
      "Epoch 66/100\n",
      "1/1 [==============================] - 0s 6ms/step - loss: 9.0007 - mae: 9.0007\n",
      "Epoch 67/100\n",
      "1/1 [==============================] - 0s 5ms/step - loss: 8.8682 - mae: 8.8682\n",
      "Epoch 68/100\n",
      "1/1 [==============================] - 0s 5ms/step - loss: 8.7357 - mae: 8.7357\n",
      "Epoch 69/100\n",
      "1/1 [==============================] - 0s 5ms/step - loss: 8.6032 - mae: 8.6032\n",
      "Epoch 70/100\n",
      "1/1 [==============================] - 0s 6ms/step - loss: 8.4707 - mae: 8.4707\n",
      "Epoch 71/100\n",
      "1/1 [==============================] - 0s 5ms/step - loss: 8.3382 - mae: 8.3382\n",
      "Epoch 72/100\n",
      "1/1 [==============================] - 0s 5ms/step - loss: 8.2057 - mae: 8.2057\n",
      "Epoch 73/100\n",
      "1/1 [==============================] - 0s 5ms/step - loss: 8.0732 - mae: 8.0732\n",
      "Epoch 74/100\n",
      "1/1 [==============================] - 0s 5ms/step - loss: 7.9407 - mae: 7.9407\n",
      "Epoch 75/100\n",
      "1/1 [==============================] - 0s 5ms/step - loss: 7.8082 - mae: 7.8082\n",
      "Epoch 76/100\n",
      "1/1 [==============================] - 0s 5ms/step - loss: 7.6757 - mae: 7.6757\n",
      "Epoch 77/100\n",
      "1/1 [==============================] - 0s 5ms/step - loss: 7.5432 - mae: 7.5432\n",
      "Epoch 78/100\n",
      "1/1 [==============================] - 0s 6ms/step - loss: 7.4107 - mae: 7.4107\n",
      "Epoch 79/100\n",
      "1/1 [==============================] - 0s 5ms/step - loss: 7.2782 - mae: 7.2782\n",
      "Epoch 80/100\n",
      "1/1 [==============================] - 0s 9ms/step - loss: 7.1457 - mae: 7.1457\n",
      "Epoch 81/100\n",
      "1/1 [==============================] - 0s 5ms/step - loss: 7.0132 - mae: 7.0132\n",
      "Epoch 82/100\n",
      "1/1 [==============================] - 0s 5ms/step - loss: 6.9356 - mae: 6.9356\n",
      "Epoch 83/100\n",
      "1/1 [==============================] - 0s 5ms/step - loss: 6.9300 - mae: 6.9300\n",
      "Epoch 84/100\n",
      "1/1 [==============================] - 0s 5ms/step - loss: 6.9244 - mae: 6.9244\n",
      "Epoch 85/100\n",
      "1/1 [==============================] - 0s 6ms/step - loss: 6.9187 - mae: 6.9187\n",
      "Epoch 86/100\n",
      "1/1 [==============================] - 0s 5ms/step - loss: 6.9131 - mae: 6.9131\n",
      "Epoch 87/100\n",
      "1/1 [==============================] - 0s 6ms/step - loss: 6.9075 - mae: 6.9075\n",
      "Epoch 88/100\n",
      "1/1 [==============================] - 0s 5ms/step - loss: 6.9019 - mae: 6.9019\n",
      "Epoch 89/100\n",
      "1/1 [==============================] - 0s 7ms/step - loss: 6.8963 - mae: 6.8963\n",
      "Epoch 90/100\n",
      "1/1 [==============================] - 0s 5ms/step - loss: 6.8906 - mae: 6.8906\n",
      "Epoch 91/100\n",
      "1/1 [==============================] - 0s 5ms/step - loss: 6.8850 - mae: 6.8850\n",
      "Epoch 92/100\n",
      "1/1 [==============================] - 0s 6ms/step - loss: 6.8794 - mae: 6.8794\n",
      "Epoch 93/100\n",
      "1/1 [==============================] - 0s 5ms/step - loss: 6.8738 - mae: 6.8738\n",
      "Epoch 94/100\n",
      "1/1 [==============================] - 0s 6ms/step - loss: 6.8681 - mae: 6.8681\n",
      "Epoch 95/100\n",
      "1/1 [==============================] - 0s 6ms/step - loss: 6.8625 - mae: 6.8625\n",
      "Epoch 96/100\n",
      "1/1 [==============================] - 0s 11ms/step - loss: 6.8569 - mae: 6.8569\n",
      "Epoch 97/100\n",
      "1/1 [==============================] - 0s 5ms/step - loss: 6.8513 - mae: 6.8513\n",
      "Epoch 98/100\n",
      "1/1 [==============================] - 0s 7ms/step - loss: 6.8456 - mae: 6.8456\n",
      "Epoch 99/100\n",
      "1/1 [==============================] - 0s 6ms/step - loss: 6.8400 - mae: 6.8400\n",
      "Epoch 100/100\n",
      "1/1 [==============================] - 0s 6ms/step - loss: 6.8344 - mae: 6.8344\n"
     ]
    },
    {
     "data": {
      "text/plain": [
       "<keras.src.callbacks.History at 0x2c2509900>"
      ]
     },
     "execution_count": 57,
     "metadata": {},
     "output_type": "execute_result"
    }
   ],
   "source": [
    "# Lets rebuild the model\n",
    "\n",
    "# 1.Create the model\n",
    "model=tf.keras.Sequential(\n",
    "    [tf.keras.layers.Dense(1)]\n",
    ")\n",
    "\n",
    "# 2.Compile the Model\n",
    "model.compile(\n",
    "    loss=tf.keras.losses.mae,\n",
    "    optimizer=tf.keras.optimizers.legacy.SGD(),\n",
    "    metrics=[\"mae\"]\n",
    ")\n",
    "#3.fit the model\n",
    "model.fit(tf.expand_dims(x, axis=-1), y, epochs=100)"
   ]
  },
  {
   "cell_type": "code",
   "execution_count": 58,
   "id": "314839f3-839d-47a8-886d-89bd19e02515",
   "metadata": {},
   "outputs": [
    {
     "name": "stdout",
     "output_type": "stream",
     "text": [
      "1/1 [==============================] - 0s 23ms/step\n"
     ]
    },
    {
     "name": "stderr",
     "output_type": "stream",
     "text": [
      "2023-08-17 09:58:49.549038: I tensorflow/core/grappler/optimizers/custom_graph_optimizer_registry.cc:114] Plugin optimizer for device_type GPU is enabled.\n"
     ]
    },
    {
     "data": {
      "text/plain": [
       "array([[29.391077]], dtype=float32)"
      ]
     },
     "execution_count": 58,
     "metadata": {},
     "output_type": "execute_result"
    }
   ],
   "source": [
    "y_pred=model.predict([17.0])\n",
    "y_pred"
   ]
  },
  {
   "cell_type": "code",
   "execution_count": 73,
   "id": "e2fc0fe8-ff1a-483f-b342-960a383ef0ea",
   "metadata": {},
   "outputs": [
    {
     "name": "stdout",
     "output_type": "stream",
     "text": [
      "Epoch 1/100\n",
      "1/1 [==============================] - 0s 152ms/step - loss: 13.3743 - mae: 13.3743\n",
      "Epoch 2/100\n"
     ]
    },
    {
     "name": "stderr",
     "output_type": "stream",
     "text": [
      "/Users/ashfaqkhanrafin/miniconda3/envs/tensorflow/lib/python3.10/site-packages/keras/src/optimizers/legacy/adam.py:118: UserWarning: The `lr` argument is deprecated, use `learning_rate` instead.\n",
      "  super().__init__(name, **kwargs)\n",
      "2023-08-17 10:07:47.820815: I tensorflow/core/grappler/optimizers/custom_graph_optimizer_registry.cc:114] Plugin optimizer for device_type GPU is enabled.\n"
     ]
    },
    {
     "name": "stdout",
     "output_type": "stream",
     "text": [
      "1/1 [==============================] - 0s 7ms/step - loss: 12.6658 - mae: 12.6658\n",
      "Epoch 3/100\n",
      "1/1 [==============================] - 0s 7ms/step - loss: 11.9593 - mae: 11.9593\n",
      "Epoch 4/100\n",
      "1/1 [==============================] - 0s 6ms/step - loss: 11.2522 - mae: 11.2522\n",
      "Epoch 5/100\n",
      "1/1 [==============================] - 0s 7ms/step - loss: 10.5425 - mae: 10.5425\n",
      "Epoch 6/100\n",
      "1/1 [==============================] - 0s 7ms/step - loss: 9.8271 - mae: 9.8271\n",
      "Epoch 7/100\n",
      "1/1 [==============================] - 0s 8ms/step - loss: 9.1024 - mae: 9.1024\n",
      "Epoch 8/100\n",
      "1/1 [==============================] - 0s 6ms/step - loss: 8.3648 - mae: 8.3648\n",
      "Epoch 9/100\n",
      "1/1 [==============================] - 0s 7ms/step - loss: 7.6112 - mae: 7.6112\n",
      "Epoch 10/100\n",
      "1/1 [==============================] - 0s 6ms/step - loss: 6.8386 - mae: 6.8386\n",
      "Epoch 11/100\n",
      "1/1 [==============================] - 0s 7ms/step - loss: 6.7446 - mae: 6.7446\n",
      "Epoch 12/100\n",
      "1/1 [==============================] - 0s 6ms/step - loss: 7.0804 - mae: 7.0804\n",
      "Epoch 13/100\n",
      "1/1 [==============================] - 0s 7ms/step - loss: 7.3014 - mae: 7.3014\n",
      "Epoch 14/100\n",
      "1/1 [==============================] - 0s 6ms/step - loss: 7.5428 - mae: 7.5428\n",
      "Epoch 15/100\n",
      "1/1 [==============================] - 0s 7ms/step - loss: 7.5805 - mae: 7.5805\n",
      "Epoch 16/100\n",
      "1/1 [==============================] - 0s 6ms/step - loss: 7.4397 - mae: 7.4397\n",
      "Epoch 17/100\n",
      "1/1 [==============================] - 0s 27ms/step - loss: 7.1637 - mae: 7.1637\n",
      "Epoch 18/100\n",
      "1/1 [==============================] - 0s 6ms/step - loss: 6.8743 - mae: 6.8743\n",
      "Epoch 19/100\n",
      "1/1 [==============================] - 0s 6ms/step - loss: 6.6147 - mae: 6.6147\n",
      "Epoch 20/100\n",
      "1/1 [==============================] - 0s 7ms/step - loss: 6.3408 - mae: 6.3408\n",
      "Epoch 21/100\n",
      "1/1 [==============================] - 0s 6ms/step - loss: 6.0908 - mae: 6.0908\n",
      "Epoch 22/100\n",
      "1/1 [==============================] - 0s 6ms/step - loss: 6.0451 - mae: 6.0451\n",
      "Epoch 23/100\n",
      "1/1 [==============================] - 0s 7ms/step - loss: 5.9951 - mae: 5.9951\n",
      "Epoch 24/100\n",
      "1/1 [==============================] - 0s 6ms/step - loss: 6.1463 - mae: 6.1463\n",
      "Epoch 25/100\n",
      "1/1 [==============================] - 0s 6ms/step - loss: 6.1857 - mae: 6.1857\n",
      "Epoch 26/100\n",
      "1/1 [==============================] - 0s 6ms/step - loss: 6.1285 - mae: 6.1285\n",
      "Epoch 27/100\n",
      "1/1 [==============================] - 0s 6ms/step - loss: 5.9860 - mae: 5.9860\n",
      "Epoch 28/100\n",
      "1/1 [==============================] - 0s 6ms/step - loss: 5.7665 - mae: 5.7665\n",
      "Epoch 29/100\n",
      "1/1 [==============================] - 0s 6ms/step - loss: 5.5173 - mae: 5.5173\n",
      "Epoch 30/100\n",
      "1/1 [==============================] - 0s 6ms/step - loss: 5.4109 - mae: 5.4109\n",
      "Epoch 31/100\n",
      "1/1 [==============================] - 0s 6ms/step - loss: 5.3013 - mae: 5.3013\n",
      "Epoch 32/100\n",
      "1/1 [==============================] - 0s 7ms/step - loss: 5.2609 - mae: 5.2609\n",
      "Epoch 33/100\n",
      "1/1 [==============================] - 0s 6ms/step - loss: 5.2412 - mae: 5.2412\n",
      "Epoch 34/100\n",
      "1/1 [==============================] - 0s 7ms/step - loss: 5.1772 - mae: 5.1772\n",
      "Epoch 35/100\n",
      "1/1 [==============================] - 0s 6ms/step - loss: 5.0724 - mae: 5.0724\n",
      "Epoch 36/100\n",
      "1/1 [==============================] - 0s 6ms/step - loss: 4.9298 - mae: 4.9298\n",
      "Epoch 37/100\n",
      "1/1 [==============================] - 0s 7ms/step - loss: 4.7524 - mae: 4.7524\n",
      "Epoch 38/100\n",
      "1/1 [==============================] - 0s 7ms/step - loss: 4.5820 - mae: 4.5820\n",
      "Epoch 39/100\n",
      "1/1 [==============================] - 0s 6ms/step - loss: 4.4798 - mae: 4.4798\n",
      "Epoch 40/100\n",
      "1/1 [==============================] - 0s 7ms/step - loss: 4.3698 - mae: 4.3698\n",
      "Epoch 41/100\n",
      "1/1 [==============================] - 0s 6ms/step - loss: 4.2518 - mae: 4.2518\n",
      "Epoch 42/100\n",
      "1/1 [==============================] - 0s 6ms/step - loss: 4.1738 - mae: 4.1738\n",
      "Epoch 43/100\n",
      "1/1 [==============================] - 0s 6ms/step - loss: 4.0029 - mae: 4.0029\n",
      "Epoch 44/100\n",
      "1/1 [==============================] - 0s 6ms/step - loss: 3.8224 - mae: 3.8224\n",
      "Epoch 45/100\n",
      "1/1 [==============================] - 0s 6ms/step - loss: 3.6551 - mae: 3.6551\n",
      "Epoch 46/100\n",
      "1/1 [==============================] - 0s 6ms/step - loss: 3.5110 - mae: 3.5110\n",
      "Epoch 47/100\n",
      "1/1 [==============================] - 0s 6ms/step - loss: 3.3914 - mae: 3.3914\n",
      "Epoch 48/100\n",
      "1/1 [==============================] - 0s 6ms/step - loss: 3.2171 - mae: 3.2171\n",
      "Epoch 49/100\n",
      "1/1 [==============================] - 0s 6ms/step - loss: 2.9905 - mae: 2.9905\n",
      "Epoch 50/100\n",
      "1/1 [==============================] - 0s 6ms/step - loss: 2.8008 - mae: 2.8008\n",
      "Epoch 51/100\n",
      "1/1 [==============================] - 0s 7ms/step - loss: 2.6207 - mae: 2.6207\n",
      "Epoch 52/100\n",
      "1/1 [==============================] - 0s 6ms/step - loss: 2.5275 - mae: 2.5275\n",
      "Epoch 53/100\n",
      "1/1 [==============================] - 0s 6ms/step - loss: 2.2885 - mae: 2.2885\n",
      "Epoch 54/100\n",
      "1/1 [==============================] - 0s 5ms/step - loss: 1.9787 - mae: 1.9787\n",
      "Epoch 55/100\n",
      "1/1 [==============================] - 0s 6ms/step - loss: 1.7882 - mae: 1.7882\n",
      "Epoch 56/100\n",
      "1/1 [==============================] - 0s 6ms/step - loss: 1.6045 - mae: 1.6045\n",
      "Epoch 57/100\n",
      "1/1 [==============================] - 0s 6ms/step - loss: 1.3494 - mae: 1.3494\n",
      "Epoch 58/100\n",
      "1/1 [==============================] - 0s 7ms/step - loss: 1.0257 - mae: 1.0257\n",
      "Epoch 59/100\n",
      "1/1 [==============================] - 0s 6ms/step - loss: 0.8321 - mae: 0.8321\n",
      "Epoch 60/100\n",
      "1/1 [==============================] - 0s 7ms/step - loss: 0.5969 - mae: 0.5969\n",
      "Epoch 61/100\n",
      "1/1 [==============================] - 0s 6ms/step - loss: 0.1835 - mae: 0.1835\n",
      "Epoch 62/100\n",
      "1/1 [==============================] - 0s 7ms/step - loss: 0.4662 - mae: 0.4662\n",
      "Epoch 63/100\n",
      "1/1 [==============================] - 0s 6ms/step - loss: 0.6461 - mae: 0.6461\n",
      "Epoch 64/100\n",
      "1/1 [==============================] - 0s 6ms/step - loss: 0.6617 - mae: 0.6617\n",
      "Epoch 65/100\n",
      "1/1 [==============================] - 0s 6ms/step - loss: 0.8424 - mae: 0.8424\n",
      "Epoch 66/100\n",
      "1/1 [==============================] - 0s 7ms/step - loss: 1.0329 - mae: 1.0329\n",
      "Epoch 67/100\n",
      "1/1 [==============================] - 0s 6ms/step - loss: 0.9679 - mae: 0.9679\n",
      "Epoch 68/100\n",
      "1/1 [==============================] - 0s 6ms/step - loss: 0.8694 - mae: 0.8694\n",
      "Epoch 69/100\n",
      "1/1 [==============================] - 0s 6ms/step - loss: 1.0570 - mae: 1.0570\n",
      "Epoch 70/100\n",
      "1/1 [==============================] - 0s 6ms/step - loss: 1.0281 - mae: 1.0281\n",
      "Epoch 71/100\n",
      "1/1 [==============================] - 0s 6ms/step - loss: 0.8115 - mae: 0.8115\n",
      "Epoch 72/100\n",
      "1/1 [==============================] - 0s 7ms/step - loss: 0.5909 - mae: 0.5909\n",
      "Epoch 73/100\n",
      "1/1 [==============================] - 0s 6ms/step - loss: 0.6187 - mae: 0.6187\n",
      "Epoch 74/100\n",
      "1/1 [==============================] - 0s 6ms/step - loss: 0.4746 - mae: 0.4746\n",
      "Epoch 75/100\n",
      "1/1 [==============================] - 0s 6ms/step - loss: 0.1104 - mae: 0.1104\n",
      "Epoch 76/100\n",
      "1/1 [==============================] - 0s 5ms/step - loss: 0.1451 - mae: 0.1451\n",
      "Epoch 77/100\n",
      "1/1 [==============================] - 0s 7ms/step - loss: 0.2593 - mae: 0.2593\n",
      "Epoch 78/100\n",
      "1/1 [==============================] - 0s 6ms/step - loss: 0.3355 - mae: 0.3355\n",
      "Epoch 79/100\n",
      "1/1 [==============================] - 0s 8ms/step - loss: 0.3642 - mae: 0.3642\n",
      "Epoch 80/100\n",
      "1/1 [==============================] - 0s 6ms/step - loss: 0.4260 - mae: 0.4260\n",
      "Epoch 81/100\n",
      "1/1 [==============================] - 0s 7ms/step - loss: 0.3391 - mae: 0.3391\n",
      "Epoch 82/100\n",
      "1/1 [==============================] - 0s 6ms/step - loss: 0.4132 - mae: 0.4132\n",
      "Epoch 83/100\n",
      "1/1 [==============================] - 0s 6ms/step - loss: 0.3654 - mae: 0.3654\n",
      "Epoch 84/100\n",
      "1/1 [==============================] - 0s 6ms/step - loss: 0.1684 - mae: 0.1684\n",
      "Epoch 85/100\n",
      "1/1 [==============================] - 0s 6ms/step - loss: 0.3279 - mae: 0.3279\n",
      "Epoch 86/100\n",
      "1/1 [==============================] - 0s 6ms/step - loss: 0.3179 - mae: 0.3179\n",
      "Epoch 87/100\n",
      "1/1 [==============================] - 0s 7ms/step - loss: 0.1740 - mae: 0.1740\n",
      "Epoch 88/100\n",
      "1/1 [==============================] - 0s 25ms/step - loss: 0.5639 - mae: 0.5639\n",
      "Epoch 89/100\n",
      "1/1 [==============================] - 0s 11ms/step - loss: 0.7123 - mae: 0.7123\n",
      "Epoch 90/100\n",
      "1/1 [==============================] - 0s 6ms/step - loss: 0.5828 - mae: 0.5828\n",
      "Epoch 91/100\n",
      "1/1 [==============================] - 0s 6ms/step - loss: 0.2621 - mae: 0.2621\n",
      "Epoch 92/100\n",
      "1/1 [==============================] - 0s 6ms/step - loss: 0.4657 - mae: 0.4657\n",
      "Epoch 93/100\n",
      "1/1 [==============================] - 0s 6ms/step - loss: 0.6398 - mae: 0.6398\n",
      "Epoch 94/100\n",
      "1/1 [==============================] - 0s 6ms/step - loss: 0.5467 - mae: 0.5467\n",
      "Epoch 95/100\n",
      "1/1 [==============================] - 0s 6ms/step - loss: 0.1795 - mae: 0.1795\n",
      "Epoch 96/100\n",
      "1/1 [==============================] - 0s 6ms/step - loss: 0.4206 - mae: 0.4206\n",
      "Epoch 97/100\n",
      "1/1 [==============================] - 0s 7ms/step - loss: 0.6798 - mae: 0.6798\n",
      "Epoch 98/100\n",
      "1/1 [==============================] - 0s 7ms/step - loss: 0.6451 - mae: 0.6451\n",
      "Epoch 99/100\n",
      "1/1 [==============================] - 0s 7ms/step - loss: 0.3932 - mae: 0.3932\n",
      "Epoch 100/100\n",
      "1/1 [==============================] - 0s 6ms/step - loss: 0.2020 - mae: 0.2020\n"
     ]
    },
    {
     "data": {
      "text/plain": [
       "<keras.src.callbacks.History at 0x2bf606290>"
      ]
     },
     "execution_count": 73,
     "metadata": {},
     "output_type": "execute_result"
    }
   ],
   "source": [
    "#Adding Adam optimizer\n",
    "# Lets rebuild the model\n",
    "\n",
    "# 1.Create the model\n",
    "model=tf.keras.Sequential(\n",
    "    [\n",
    "        tf.keras.layers.Dense(50,activation=None),\n",
    "        tf.keras.layers.Dense(1)\n",
    "    ]\n",
    ")\n",
    "\n",
    "# 2.Compile the Model\n",
    "model.compile(\n",
    "    loss=tf.keras.losses.mae,\n",
    "    optimizer=tf.keras.optimizers.legacy.Adam(lr=0.01),\n",
    "    metrics=[\"mae\"]\n",
    ")\n",
    "#3.fit the model\n",
    "model.fit(tf.expand_dims(x, axis=-1), y, epochs=100)"
   ]
  },
  {
   "cell_type": "code",
   "execution_count": 75,
   "id": "318898b8-9d64-4a34-b3dc-cf47dad8359f",
   "metadata": {},
   "outputs": [
    {
     "name": "stdout",
     "output_type": "stream",
     "text": [
      "1/1 [==============================] - 0s 98ms/step\n"
     ]
    },
    {
     "data": {
      "text/plain": [
       "array([[27.837563],\n",
       "       [17.238821]], dtype=float32)"
      ]
     },
     "execution_count": 75,
     "metadata": {},
     "output_type": "execute_result"
    }
   ],
   "source": [
    "model.predict([17.0,7.0])"
   ]
  },
  {
   "cell_type": "code",
   "execution_count": 76,
   "id": "60431303-934c-4b8a-af84-a02e9ebd946c",
   "metadata": {},
   "outputs": [],
   "source": [
    "##Evaluting a model"
   ]
  },
  {
   "cell_type": "code",
   "execution_count": 77,
   "id": "af02261e-934a-4513-ad03-5e7969c1dd35",
   "metadata": {},
   "outputs": [
    {
     "data": {
      "text/plain": [
       "<tf.Tensor: shape=(50,), dtype=int32, numpy=\n",
       "array([-100,  -96,  -92,  -88,  -84,  -80,  -76,  -72,  -68,  -64,  -60,\n",
       "        -56,  -52,  -48,  -44,  -40,  -36,  -32,  -28,  -24,  -20,  -16,\n",
       "        -12,   -8,   -4,    0,    4,    8,   12,   16,   20,   24,   28,\n",
       "         32,   36,   40,   44,   48,   52,   56,   60,   64,   68,   72,\n",
       "         76,   80,   84,   88,   92,   96], dtype=int32)>"
      ]
     },
     "execution_count": 77,
     "metadata": {},
     "output_type": "execute_result"
    }
   ],
   "source": [
    "x=tf.range(-100,100,4)\n",
    "x"
   ]
  },
  {
   "cell_type": "code",
   "execution_count": 78,
   "id": "ccefff89-3304-4998-be19-9f63ea7b46e7",
   "metadata": {},
   "outputs": [],
   "source": [
    "y=x+10"
   ]
  },
  {
   "cell_type": "code",
   "execution_count": 79,
   "id": "df3c86d8-5407-4de6-a651-7679c998a728",
   "metadata": {},
   "outputs": [
    {
     "data": {
      "text/plain": [
       "<tf.Tensor: shape=(50,), dtype=int32, numpy=\n",
       "array([-90, -86, -82, -78, -74, -70, -66, -62, -58, -54, -50, -46, -42,\n",
       "       -38, -34, -30, -26, -22, -18, -14, -10,  -6,  -2,   2,   6,  10,\n",
       "        14,  18,  22,  26,  30,  34,  38,  42,  46,  50,  54,  58,  62,\n",
       "        66,  70,  74,  78,  82,  86,  90,  94,  98, 102, 106], dtype=int32)>"
      ]
     },
     "execution_count": 79,
     "metadata": {},
     "output_type": "execute_result"
    }
   ],
   "source": [
    "y"
   ]
  },
  {
   "cell_type": "code",
   "execution_count": 81,
   "id": "b0a144d3-1ffe-4148-9507-93697f155ce6",
   "metadata": {},
   "outputs": [
    {
     "data": {
      "text/plain": [
       "<matplotlib.collections.PathCollection at 0x2ceeef310>"
      ]
     },
     "execution_count": 81,
     "metadata": {},
     "output_type": "execute_result"
    },
    {
     "data": {
      "image/png": "[encoded data removed]",
      "text/plain": [
       "<Figure size 640x480 with 1 Axes>"
      ]
     },
     "metadata": {},
     "output_type": "display_data"
    }
   ],
   "source": [
    "#visulizing the data\n",
    "import matplotlib.pyplot as plt\n",
    "\n",
    "plt.scatter(x,y)"
   ]
  },
  {
   "cell_type": "code",
   "execution_count": 82,
   "id": "b67cc47b-c6d4-44aa-b228-b390eb49e34e",
   "metadata": {},
   "outputs": [
    {
     "data": {
      "text/plain": [
       "<matplotlib.collections.PathCollection at 0x2c6a587c0>"
      ]
     },
     "execution_count": 82,
     "metadata": {},
     "output_type": "execute_result"
    },
    {
     "data": {
      "image/png": "[encoded data removed]",
      "text/plain": [
       "<Figure size 640x480 with 1 Axes>"
      ]
     },
     "metadata": {},
     "output_type": "display_data"
    }
   ],
   "source": [
    "plt.scatter(y,x)"
   ]
  },
  {
   "cell_type": "markdown",
   "id": "257c436a-e565-47d7-8e03-192e3c2b0611",
   "metadata": {},
   "source": [
    "### The 3 sets...\n",
    "***Traning set***-the model learns from this data,which is typically 70-80% of the total data i have available.\n",
    "\n",
    "***Validation set***- the model gets tuned on this data, which is typically 10-15% of the data available.\n",
    "\n",
    "***Test set***- the model gets evaluated on this data to test what is has learned, this set typically 10-15% of the total data available"
   ]
  },
  {
   "cell_type": "code",
   "execution_count": 83,
   "id": "5a059edd-9aeb-4c51-844a-2af3f7480802",
   "metadata": {},
   "outputs": [
    {
     "data": {
      "text/plain": [
       "50"
      ]
     },
     "execution_count": 83,
     "metadata": {},
     "output_type": "execute_result"
    }
   ],
   "source": [
    "#check the length of how many samples we have\n",
    "len(x)"
   ]
  },
  {
   "cell_type": "code",
   "execution_count": 87,
   "id": "317f2dc9-3340-4e08-a460-15ac82697f73",
   "metadata": {},
   "outputs": [
    {
     "data": {
      "text/plain": [
       "(40, 40, 10, 10)"
      ]
     },
     "execution_count": 87,
     "metadata": {},
     "output_type": "execute_result"
    }
   ],
   "source": [
    "#Split the data into train and test set\n",
    "x_train=x[:40]\n",
    "y_train=y[:40]\n",
    "x_test=x[40:]\n",
    "y_test=y[40:]\n",
    "len(x_train),len(y_train),len(x_test),len(y_test)"
   ]
  },
  {
   "cell_type": "code",
   "execution_count": 95,
   "id": "c65613c9-6104-4427-9d92-05ccdc9b3a34",
   "metadata": {},
   "outputs": [
    {
     "data": {
      "image/png": "[encoded data removed]",
      "text/plain": [
       "<Figure size 1000x700 with 1 Axes>"
      ]
     },
     "metadata": {},
     "output_type": "display_data"
    }
   ],
   "source": [
    "#visualizing the data\n",
    "plt.figure(figsize=(10,7))\n",
    "#plot training data in blue\n",
    "plt.scatter(x_train,y_train,c=\"b\",label=\"Training data\")\n",
    "#plot training data in green\n",
    "plt.scatter(x_test,y_test,c=\"g\",label=\"Testing data\")\n",
    "#Show a legend\n",
    "plt.legend();"
   ]
  },
  {
   "cell_type": "code",
   "execution_count": 105,
   "id": "6645d76e-bb28-4fe4-b389-ddfd2a2b7fd6",
   "metadata": {},
   "outputs": [],
   "source": [
    "# Lets have a look at how to build a neural nwtwork for our data\n",
    "\n",
    "#1.Create the model\n",
    "model=tf.keras.Sequential([\n",
    "    tf.keras.layers.Dense(1)\n",
    "])\n",
    "\n",
    "# 2. Compile the model \n",
    "model.compile(\n",
    "    loss=tf.keras.losses.mae,\n",
    "    optimizer=tf.keras.optimizers.legacy.SGD(),\n",
    "    metrics=[\"mae\"]\n",
    ")\n",
    "# 3. Fit the model\n",
    "# model.fit(tf.expand_dims(x, axis=-1), y, epochs=100)"
   ]
  },
  {
   "cell_type": "code",
   "execution_count": 111,
   "id": "119b5870-a4e4-4402-88ed-50cb60ee502b",
   "metadata": {},
   "outputs": [
    {
     "data": {
      "text/plain": [
       "(<tf.Tensor: shape=(), dtype=int32, numpy=-100>,\n",
       " <tf.Tensor: shape=(), dtype=int32, numpy=-90>)"
      ]
     },
     "execution_count": 111,
     "metadata": {},
     "output_type": "execute_result"
    }
   ],
   "source": [
    "x[0],y[0]"
   ]
  },
  {
   "cell_type": "code",
   "execution_count": 115,
   "id": "489801f2-dfde-4241-a688-b751410da73e",
   "metadata": {},
   "outputs": [],
   "source": [
    "#Let's create a model which builds automatically by defining the input_shape argument in the first layer\n",
    "tf.random.set_seed(42)\n",
    "\n",
    "#1.create a model (same as above)\n",
    "model=tf.keras.Sequential([\n",
    "    tf.keras.layers.Dense(1,input_shape=[1])\n",
    "])\n",
    "\n",
    "# 2.compile the model\n",
    "model.compile(\n",
    "    loss=tf.keras.losses.mae,\n",
    "    optimizer=tf.keras.optimizers.legacy.SGD(),\n",
    "    metrics=[\"mae\"]\n",
    ")"
   ]
  },
  {
   "cell_type": "code",
   "execution_count": 116,
   "id": "b342b1c8-cf55-45ec-af46-12268c8f2e62",
   "metadata": {},
   "outputs": [
    {
     "name": "stdout",
     "output_type": "stream",
     "text": [
      "Model: \"sequential_32\"\n",
      "_________________________________________________________________\n",
      " Layer (type)                Output Shape              Param #   \n",
      "=================================================================\n",
      " dense_41 (Dense)            (None, 1)                 2         \n",
      "                                                                 \n",
      "=================================================================\n",
      "Total params: 2 (8.00 Byte)\n",
      "Trainable params: 2 (8.00 Byte)\n",
      "Non-trainable params: 0 (0.00 Byte)\n",
      "_________________________________________________________________\n"
     ]
    }
   ],
   "source": [
    "model.summary()"
   ]
  },
  {
   "cell_type": "code",
   "execution_count": null,
   "id": "038d083c-f2fb-45a0-87e4-ab48eb01ce3b",
   "metadata": {},
   "outputs": [],
   "source": [
    "  "
   ]
  }
 ],
 "metadata": {
  "kernelspec": {
   "display_name": "Python 3 (ipykernel)",
   "language": "python",
   "name": "python3"
  },
  "language_info": {
   "codemirror_mode": {
    "name": "ipython",
    "version": 3
   },
   "file_extension": ".py",
   "mimetype": "text/x-python",
   "name": "python",
   "nbconvert_exporter": "python",
   "pygments_lexer": "ipython3",
   "version": "3.10.12"
  }
 },
 "nbformat": 4,
 "nbformat_minor": 5
}
