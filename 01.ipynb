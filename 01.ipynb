{
 "cells": [
  {
   "cell_type": "code",
   "execution_count": 1,
   "id": "e6c93c74-a37e-4e26-9ce9-06058660f82e",
   "metadata": {},
   "outputs": [
    {
     "name": "stdout",
     "output_type": "stream",
     "text": [
      "2.13.0\n"
     ]
    }
   ],
   "source": [
    "import tensorflow as tf\n",
    "print(tf.__version__)\n"
   ]
  },
  {
   "cell_type": "code",
   "execution_count": 2,
   "id": "fe24d261-1e89-4fee-ab93-8c92fdbccb4d",
   "metadata": {},
   "outputs": [],
   "source": [
    "# Creating data to view and feed"
   ]
  },
  {
   "cell_type": "code",
   "execution_count": 3,
   "id": "d253cfda-7247-4912-9172-099da4458ee5",
   "metadata": {},
   "outputs": [
    {
     "data": {
      "image/png": "[encoded data removed]",
      "text/plain": [
       "<Figure size 640x480 with 1 Axes>"
      ]
     },
     "metadata": {},
     "output_type": "display_data"
    }
   ],
   "source": [
    "import numpy as np\n",
    "import matplotlib.pyplot as plt\n",
    "\n",
    "#Create the features\n",
    "x=np.array([-7.0,-4.0,-1.0,2.0,5.0,8.0,11.0,14.0])\n",
    "\n",
    "#Create labels\n",
    "y=np.array([3.0,6.0,9.0,12.0,15.0,18.0,21.0,24.0])\n",
    "\n",
    "#Visulize it\n",
    "plt.scatter(x,y);"
   ]
  },
  {
   "cell_type": "code",
   "execution_count": 4,
   "id": "47653d30-eba2-4bdb-9760-367874f2addf",
   "metadata": {},
   "outputs": [
    {
     "data": {
      "text/plain": [
       "array([ True,  True,  True,  True,  True,  True,  True,  True])"
      ]
     },
     "execution_count": 4,
     "metadata": {},
     "output_type": "execute_result"
    }
   ],
   "source": [
    "y==x+10"
   ]
  },
  {
   "cell_type": "code",
   "execution_count": 5,
   "id": "d7702353-140e-4c54-84f9-b3150fd99cc2",
   "metadata": {},
   "outputs": [],
   "source": [
    "# Inputs and Outputs Shapes"
   ]
  },
  {
   "cell_type": "code",
   "execution_count": 6,
   "id": "6d85213b-cea2-4b7e-beee-131fafb97acd",
   "metadata": {},
   "outputs": [
    {
     "name": "stderr",
     "output_type": "stream",
     "text": [
      "2023-08-20 11:52:33.692927: I metal_plugin/src/device/metal_device.cc:1154] Metal device set to: Apple M2\n",
      "2023-08-20 11:52:33.692964: I metal_plugin/src/device/metal_device.cc:296] systemMemory: 8.00 GB\n",
      "2023-08-20 11:52:33.692974: I metal_plugin/src/device/metal_device.cc:313] maxCacheSize: 2.67 GB\n",
      "2023-08-20 11:52:33.693099: I tensorflow/core/common_runtime/pluggable_device/pluggable_device_factory.cc:303] Could not identify NUMA node of platform GPU ID 0, defaulting to 0. Your kernel may not have been built with NUMA support.\n",
      "2023-08-20 11:52:33.695778: I tensorflow/core/common_runtime/pluggable_device/pluggable_device_factory.cc:269] Created TensorFlow device (/job:localhost/replica:0/task:0/device:GPU:0 with 0 MB memory) -> physical PluggableDevice (device: 0, name: METAL, pci bus id: <undefined>)\n"
     ]
    },
    {
     "data": {
      "text/plain": [
       "(<tf.Tensor: shape=(3,), dtype=string, numpy=array([b'beadroom', b'bathroom', b'garage'], dtype=object)>,\n",
       " <tf.Tensor: shape=(1,), dtype=int32, numpy=array([939700], dtype=int32)>)"
      ]
     },
     "execution_count": 6,
     "metadata": {},
     "output_type": "execute_result"
    }
   ],
   "source": [
    "# Create a demo tensor for our housing price prediction problem\n",
    "house_info=tf.constant([\"beadroom\",\"bathroom\",\"garage\"])\n",
    "house_price=tf.constant([939700])\n",
    "house_info,house_price"
   ]
  },
  {
   "cell_type": "code",
   "execution_count": 7,
   "id": "2699195f-7ef7-4b5f-9e11-f884ab7c10f4",
   "metadata": {},
   "outputs": [
    {
     "data": {
      "text/plain": [
       "(-7.0, 3.0)"
      ]
     },
     "execution_count": 7,
     "metadata": {},
     "output_type": "execute_result"
    }
   ],
   "source": [
    "x[0],y[0]"
   ]
  },
  {
   "cell_type": "code",
   "execution_count": 8,
   "id": "4c1e9304-c84e-433b-8084-650e98ccabf2",
   "metadata": {},
   "outputs": [
    {
     "data": {
      "text/plain": [
       "(-4.0, 6.0)"
      ]
     },
     "execution_count": 8,
     "metadata": {},
     "output_type": "execute_result"
    }
   ],
   "source": [
    "x[1],y[1]"
   ]
  },
  {
   "cell_type": "code",
   "execution_count": 9,
   "id": "01853672-ecba-4ad0-b765-9e82bbe12b43",
   "metadata": {},
   "outputs": [
    {
     "data": {
      "text/plain": [
       "((), ())"
      ]
     },
     "execution_count": 9,
     "metadata": {},
     "output_type": "execute_result"
    }
   ],
   "source": [
    "input_shape=x[0].shape\n",
    "output_shape=y[0].shape\n",
    "input_shape,output_shape"
   ]
  },
  {
   "cell_type": "code",
   "execution_count": 10,
   "id": "4d98d92d-a412-4694-a94b-4302a1cdb901",
   "metadata": {},
   "outputs": [
    {
     "data": {
      "text/plain": [
       "0"
      ]
     },
     "execution_count": 10,
     "metadata": {},
     "output_type": "execute_result"
    }
   ],
   "source": [
    "x[0].ndim"
   ]
  },
  {
   "cell_type": "code",
   "execution_count": 11,
   "id": "b227e647-cb44-42af-bb6e-169019cec64e",
   "metadata": {},
   "outputs": [],
   "source": [
    "# Turn our Numpy arrays into tensor"
   ]
  },
  {
   "cell_type": "code",
   "execution_count": 12,
   "id": "5a107571-8381-4cdc-acec-c8db546c5585",
   "metadata": {},
   "outputs": [
    {
     "data": {
      "text/plain": [
       "(<tf.Tensor: shape=(8,), dtype=float32, numpy=array([-7., -4., -1.,  2.,  5.,  8., 11., 14.], dtype=float32)>,\n",
       " <tf.Tensor: shape=(8,), dtype=float32, numpy=array([ 3.,  6.,  9., 12., 15., 18., 21., 24.], dtype=float32)>)"
      ]
     },
     "execution_count": 12,
     "metadata": {},
     "output_type": "execute_result"
    }
   ],
   "source": [
    "x=tf.cast(tf.constant(x),dtype=tf.float32)\n",
    "y=tf.cast(tf.constant(y),dtype=tf.float32)\n",
    "x,y"
   ]
  },
  {
   "cell_type": "code",
   "execution_count": 13,
   "id": "e4f9df7b-02af-4294-ad9a-81fc542d7ff3",
   "metadata": {},
   "outputs": [
    {
     "data": {
      "text/plain": [
       "(TensorShape([]), TensorShape([]))"
      ]
     },
     "execution_count": 13,
     "metadata": {},
     "output_type": "execute_result"
    }
   ],
   "source": [
    "input_shape=x[0].shape\n",
    "output_shape=y[0].shape\n",
    "input_shape,output_shape"
   ]
  },
  {
   "cell_type": "code",
   "execution_count": 14,
   "id": "060af9e2-9bfe-4303-93b8-e7b290305fca",
   "metadata": {},
   "outputs": [
    {
     "data": {
      "text/plain": [
       "<matplotlib.collections.PathCollection at 0x29143e350>"
      ]
     },
     "execution_count": 14,
     "metadata": {},
     "output_type": "execute_result"
    },
    {
     "data": {
      "image/png": "[encoded data removed]",
      "text/plain": [
       "<Figure size 640x480 with 1 Axes>"
      ]
     },
     "metadata": {},
     "output_type": "display_data"
    }
   ],
   "source": [
    "plt.scatter(x,y)"
   ]
  },
  {
   "cell_type": "code",
   "execution_count": null,
   "id": "bdcf0fd3",
   "metadata": {},
   "outputs": [],
   "source": []
  },
  {
   "cell_type": "code",
   "execution_count": 15,
   "id": "da933ae8-1003-4900-840a-e976af57ff94",
   "metadata": {},
   "outputs": [],
   "source": [
    "#Modelling with Tensorflow"
   ]
  },
  {
   "cell_type": "code",
   "execution_count": 16,
   "id": "0c9b2dd8-9555-4481-901c-7723d2ae5186",
   "metadata": {},
   "outputs": [
    {
     "name": "stdout",
     "output_type": "stream",
     "text": [
      "Epoch 1/5\n",
      "1/1 [==============================] - 0s 206ms/step - loss: 11.5841 - mae: 11.5841\n",
      "Epoch 2/5\n",
      "1/1 [==============================] - 0s 6ms/step - loss: 11.4516 - mae: 11.4516\n",
      "Epoch 3/5\n",
      "1/1 [==============================] - 0s 5ms/step - loss: 11.3191 - mae: 11.3191\n",
      "Epoch 4/5\n",
      "1/1 [==============================] - 0s 5ms/step - loss: 11.1866 - mae: 11.1866\n",
      "Epoch 5/5\n",
      "1/1 [==============================] - 0s 5ms/step - loss: 11.0541 - mae: 11.0541\n"
     ]
    },
    {
     "name": "stderr",
     "output_type": "stream",
     "text": [
      "2023-08-20 11:52:34.136878: I tensorflow/core/grappler/optimizers/custom_graph_optimizer_registry.cc:114] Plugin optimizer for device_type GPU is enabled.\n"
     ]
    },
    {
     "data": {
      "text/plain": [
       "<keras.src.callbacks.History at 0x2938ad810>"
      ]
     },
     "execution_count": 16,
     "metadata": {},
     "output_type": "execute_result"
    }
   ],
   "source": [
    "# 1.Create a model using the Sequential API\n",
    "tf.random.set_seed(42)\n",
    "model=tf.keras.Sequential([\n",
    "    tf.keras.layers.Dense(1)\n",
    "])\n",
    "\n",
    "# 2. Compile the model\n",
    "model.compile(loss=tf.keras.losses.mae, # mae is short for mean absolute error\n",
    "              optimizer=tf.keras.optimizers.legacy.SGD(), # SGD is short for stochastic gradient descent\n",
    "              metrics=[\"mae\"])\n",
    "# 3. Fit the model\n",
    "# model.fit(x,y,epochs=5)\n",
    "model.fit(tf.expand_dims(x, axis=-1), y, epochs=5)\n",
    "\n",
    "# 4.Evaluate the model\n",
    "# model.evaluate(x_test,y_test)"
   ]
  },
  {
   "cell_type": "code",
   "execution_count": 17,
   "id": "965fcad3-26a9-44ed-b310-9705f0874ea9",
   "metadata": {},
   "outputs": [
    {
     "data": {
      "text/plain": [
       "(<tf.Tensor: shape=(8,), dtype=float32, numpy=array([-7., -4., -1.,  2.,  5.,  8., 11., 14.], dtype=float32)>,\n",
       " <tf.Tensor: shape=(8,), dtype=float32, numpy=array([ 3.,  6.,  9., 12., 15., 18., 21., 24.], dtype=float32)>)"
      ]
     },
     "execution_count": 17,
     "metadata": {},
     "output_type": "execute_result"
    }
   ],
   "source": [
    "x,y"
   ]
  },
  {
   "cell_type": "code",
   "execution_count": 18,
   "id": "d0a6cd51-b6d1-47f9-b061-323b8973229f",
   "metadata": {},
   "outputs": [
    {
     "name": "stdout",
     "output_type": "stream",
     "text": [
      "1/1 [==============================] - 0s 42ms/step\n"
     ]
    },
    {
     "name": "stderr",
     "output_type": "stream",
     "text": [
      "2023-08-20 11:52:34.322458: I tensorflow/core/grappler/optimizers/custom_graph_optimizer_registry.cc:114] Plugin optimizer for device_type GPU is enabled.\n"
     ]
    },
    {
     "data": {
      "text/plain": [
       "array([[12.330841]], dtype=float32)"
      ]
     },
     "execution_count": 18,
     "metadata": {},
     "output_type": "execute_result"
    }
   ],
   "source": [
    "# try and make a prediction using our model\n",
    "y_pred=model.predict([17.0])\n",
    "y_pred"
   ]
  },
  {
   "cell_type": "code",
   "execution_count": 19,
   "id": "de132427-2fca-4b15-8e38-10867b183629",
   "metadata": {},
   "outputs": [],
   "source": [
    "# Imporving our model"
   ]
  },
  {
   "cell_type": "code",
   "execution_count": 20,
   "id": "31095f76-7c99-47f9-9b21-1f3fbb12d379",
   "metadata": {},
   "outputs": [
    {
     "name": "stdout",
     "output_type": "stream",
     "text": [
      "Epoch 1/5\n",
      "1/1 [==============================] - ETA: 0s - loss: 12.4236 - mae: 12.4236"
     ]
    },
    {
     "name": "stderr",
     "output_type": "stream",
     "text": [
      "/Users/ashfaqkhanrafin/miniconda3/envs/tensorflow/lib/python3.10/site-packages/keras/src/optimizers/legacy/adam.py:118: UserWarning: The `lr` argument is deprecated, use `learning_rate` instead.\n",
      "  super().__init__(name, **kwargs)\n",
      "2023-08-20 11:52:34.450327: I tensorflow/core/grappler/optimizers/custom_graph_optimizer_registry.cc:114] Plugin optimizer for device_type GPU is enabled.\n"
     ]
    },
    {
     "name": "stdout",
     "output_type": "stream",
     "text": [
      "1/1 [==============================] - 0s 155ms/step - loss: 12.4236 - mae: 12.4236\n",
      "Epoch 2/5\n",
      "1/1 [==============================] - 0s 6ms/step - loss: 12.4232 - mae: 12.4232\n",
      "Epoch 3/5\n",
      "1/1 [==============================] - 0s 8ms/step - loss: 12.4227 - mae: 12.4227\n",
      "Epoch 4/5\n",
      "1/1 [==============================] - 0s 6ms/step - loss: 12.4223 - mae: 12.4223\n",
      "Epoch 5/5\n",
      "1/1 [==============================] - 0s 5ms/step - loss: 12.4218 - mae: 12.4218\n"
     ]
    },
    {
     "data": {
      "text/plain": [
       "<keras.src.callbacks.History at 0x294a42c80>"
      ]
     },
     "execution_count": 20,
     "metadata": {},
     "output_type": "execute_result"
    }
   ],
   "source": [
    "# 1. Create the model\n",
    "model=tf.keras.Sequential(\n",
    "    [tf.keras.layers.Dense(1)]\n",
    ")\n",
    "#2.Compile the model \n",
    "model.compile(loss=tf.keras.losses.mae,\n",
    "             optimizer=tf.keras.optimizers.legacy.Adam(lr=0.0001),\n",
    "             metrics=[\"mae\"] \n",
    "             )\n",
    "\n",
    "# 3. Fit the model\n",
    "model.fit(tf.expand_dims(x, axis=-1), y, epochs=5)"
   ]
  },
  {
   "cell_type": "code",
   "execution_count": 21,
   "id": "9d963592-a5fc-477b-a5f7-cf4640fe8629",
   "metadata": {},
   "outputs": [
    {
     "name": "stdout",
     "output_type": "stream",
     "text": [
      "1/1 [==============================] - 0s 27ms/step\n"
     ]
    },
    {
     "name": "stderr",
     "output_type": "stream",
     "text": [
      "2023-08-20 11:52:34.594282: I tensorflow/core/grappler/optimizers/custom_graph_optimizer_registry.cc:114] Plugin optimizer for device_type GPU is enabled.\n"
     ]
    },
    {
     "data": {
      "text/plain": [
       "array([[5.237014]], dtype=float32)"
      ]
     },
     "execution_count": 21,
     "metadata": {},
     "output_type": "execute_result"
    }
   ],
   "source": [
    "y_pred=model.predict([17.0])\n",
    "y_pred"
   ]
  },
  {
   "cell_type": "code",
   "execution_count": 22,
   "id": "aef0126f-d466-420a-b2ff-fbdd5f21b15d",
   "metadata": {},
   "outputs": [
    {
     "name": "stdout",
     "output_type": "stream",
     "text": [
      "Epoch 1/100\n",
      "1/1 [==============================] - 0s 115ms/step - loss: 9.4510 - mae: 9.4510\n",
      "Epoch 2/100\n",
      "1/1 [==============================] - 0s 6ms/step - loss: 9.3185 - mae: 9.3185\n",
      "Epoch 3/100\n",
      "1/1 [==============================] - 0s 5ms/step - loss: 9.1860 - mae: 9.1860\n",
      "Epoch 4/100\n",
      "1/1 [==============================] - 0s 5ms/step - loss: 9.0535 - mae: 9.0535\n",
      "Epoch 5/100\n",
      "1/1 [==============================] - 0s 5ms/step - loss: 8.9210 - mae: 8.9210\n",
      "Epoch 6/100\n",
      "1/1 [==============================] - 0s 6ms/step - loss: 8.7885 - mae: 8.7885\n",
      "Epoch 7/100\n",
      "1/1 [==============================] - 0s 5ms/step - loss: 8.6560 - mae: 8.6560\n",
      "Epoch 8/100\n"
     ]
    },
    {
     "name": "stderr",
     "output_type": "stream",
     "text": [
      "2023-08-20 11:52:34.698138: I tensorflow/core/grappler/optimizers/custom_graph_optimizer_registry.cc:114] Plugin optimizer for device_type GPU is enabled.\n"
     ]
    },
    {
     "name": "stdout",
     "output_type": "stream",
     "text": [
      "1/1 [==============================] - 0s 5ms/step - loss: 8.5235 - mae: 8.5235\n",
      "Epoch 9/100\n",
      "1/1 [==============================] - 0s 5ms/step - loss: 8.3910 - mae: 8.3910\n",
      "Epoch 10/100\n",
      "1/1 [==============================] - 0s 5ms/step - loss: 8.2585 - mae: 8.2585\n",
      "Epoch 11/100\n",
      "1/1 [==============================] - 0s 5ms/step - loss: 8.1260 - mae: 8.1260\n",
      "Epoch 12/100\n",
      "1/1 [==============================] - 0s 5ms/step - loss: 7.9935 - mae: 7.9935\n",
      "Epoch 13/100\n",
      "1/1 [==============================] - 0s 5ms/step - loss: 7.8610 - mae: 7.8610\n",
      "Epoch 14/100\n",
      "1/1 [==============================] - 0s 5ms/step - loss: 7.7285 - mae: 7.7285\n",
      "Epoch 15/100\n",
      "1/1 [==============================] - 0s 5ms/step - loss: 7.5960 - mae: 7.5960\n",
      "Epoch 16/100\n",
      "1/1 [==============================] - 0s 5ms/step - loss: 7.4635 - mae: 7.4635\n",
      "Epoch 17/100\n",
      "1/1 [==============================] - 0s 5ms/step - loss: 7.3800 - mae: 7.3800\n",
      "Epoch 18/100\n",
      "1/1 [==============================] - 0s 5ms/step - loss: 7.3744 - mae: 7.3744\n",
      "Epoch 19/100\n",
      "1/1 [==============================] - 0s 5ms/step - loss: 7.3688 - mae: 7.3688\n",
      "Epoch 20/100\n",
      "1/1 [==============================] - 0s 6ms/step - loss: 7.3631 - mae: 7.3631\n",
      "Epoch 21/100\n",
      "1/1 [==============================] - 0s 5ms/step - loss: 7.3575 - mae: 7.3575\n",
      "Epoch 22/100\n",
      "1/1 [==============================] - 0s 5ms/step - loss: 7.3519 - mae: 7.3519\n",
      "Epoch 23/100\n",
      "1/1 [==============================] - 0s 5ms/step - loss: 7.3463 - mae: 7.3463\n",
      "Epoch 24/100\n",
      "1/1 [==============================] - 0s 5ms/step - loss: 7.3406 - mae: 7.3406\n",
      "Epoch 25/100\n",
      "1/1 [==============================] - 0s 5ms/step - loss: 7.3350 - mae: 7.3350\n",
      "Epoch 26/100\n",
      "1/1 [==============================] - 0s 5ms/step - loss: 7.3294 - mae: 7.3294\n",
      "Epoch 27/100\n",
      "1/1 [==============================] - 0s 5ms/step - loss: 7.3238 - mae: 7.3238\n",
      "Epoch 28/100\n",
      "1/1 [==============================] - 0s 5ms/step - loss: 7.3181 - mae: 7.3181\n",
      "Epoch 29/100\n",
      "1/1 [==============================] - 0s 6ms/step - loss: 7.3125 - mae: 7.3125\n",
      "Epoch 30/100\n",
      "1/1 [==============================] - 0s 6ms/step - loss: 7.3069 - mae: 7.3069\n",
      "Epoch 31/100\n",
      "1/1 [==============================] - 0s 5ms/step - loss: 7.3013 - mae: 7.3013\n",
      "Epoch 32/100\n",
      "1/1 [==============================] - 0s 5ms/step - loss: 7.2956 - mae: 7.2956\n",
      "Epoch 33/100\n",
      "1/1 [==============================] - 0s 5ms/step - loss: 7.2900 - mae: 7.2900\n",
      "Epoch 34/100\n",
      "1/1 [==============================] - 0s 5ms/step - loss: 7.2844 - mae: 7.2844\n",
      "Epoch 35/100\n",
      "1/1 [==============================] - 0s 5ms/step - loss: 7.2787 - mae: 7.2787\n",
      "Epoch 36/100\n",
      "1/1 [==============================] - 0s 5ms/step - loss: 7.2731 - mae: 7.2731\n",
      "Epoch 37/100\n",
      "1/1 [==============================] - 0s 5ms/step - loss: 7.2675 - mae: 7.2675\n",
      "Epoch 38/100\n",
      "1/1 [==============================] - 0s 5ms/step - loss: 7.2619 - mae: 7.2619\n",
      "Epoch 39/100\n",
      "1/1 [==============================] - 0s 5ms/step - loss: 7.2563 - mae: 7.2563\n",
      "Epoch 40/100\n",
      "1/1 [==============================] - 0s 5ms/step - loss: 7.2506 - mae: 7.2506\n",
      "Epoch 41/100\n",
      "1/1 [==============================] - 0s 5ms/step - loss: 7.2450 - mae: 7.2450\n",
      "Epoch 42/100\n",
      "1/1 [==============================] - 0s 5ms/step - loss: 7.2394 - mae: 7.2394\n",
      "Epoch 43/100\n",
      "1/1 [==============================] - 0s 5ms/step - loss: 7.2338 - mae: 7.2338\n",
      "Epoch 44/100\n",
      "1/1 [==============================] - 0s 5ms/step - loss: 7.2281 - mae: 7.2281\n",
      "Epoch 45/100\n",
      "1/1 [==============================] - 0s 5ms/step - loss: 7.2225 - mae: 7.2225\n",
      "Epoch 46/100\n",
      "1/1 [==============================] - 0s 5ms/step - loss: 7.2169 - mae: 7.2169\n",
      "Epoch 47/100\n",
      "1/1 [==============================] - 0s 5ms/step - loss: 7.2112 - mae: 7.2112\n",
      "Epoch 48/100\n",
      "1/1 [==============================] - 0s 7ms/step - loss: 7.2056 - mae: 7.2056\n",
      "Epoch 49/100\n",
      "1/1 [==============================] - 0s 12ms/step - loss: 7.2000 - mae: 7.2000\n",
      "Epoch 50/100\n",
      "1/1 [==============================] - 0s 8ms/step - loss: 7.1944 - mae: 7.1944\n",
      "Epoch 51/100\n",
      "1/1 [==============================] - 0s 6ms/step - loss: 7.1887 - mae: 7.1887\n",
      "Epoch 52/100\n",
      "1/1 [==============================] - 0s 6ms/step - loss: 7.1831 - mae: 7.1831\n",
      "Epoch 53/100\n",
      "1/1 [==============================] - 0s 5ms/step - loss: 7.1775 - mae: 7.1775\n",
      "Epoch 54/100\n",
      "1/1 [==============================] - 0s 5ms/step - loss: 7.1719 - mae: 7.1719\n",
      "Epoch 55/100\n",
      "1/1 [==============================] - 0s 5ms/step - loss: 7.1663 - mae: 7.1663\n",
      "Epoch 56/100\n",
      "1/1 [==============================] - 0s 5ms/step - loss: 7.1606 - mae: 7.1606\n",
      "Epoch 57/100\n",
      "1/1 [==============================] - 0s 5ms/step - loss: 7.1550 - mae: 7.1550\n",
      "Epoch 58/100\n",
      "1/1 [==============================] - 0s 5ms/step - loss: 7.1494 - mae: 7.1494\n",
      "Epoch 59/100\n",
      "1/1 [==============================] - 0s 5ms/step - loss: 7.1438 - mae: 7.1438\n",
      "Epoch 60/100\n",
      "1/1 [==============================] - 0s 5ms/step - loss: 7.1381 - mae: 7.1381\n",
      "Epoch 61/100\n",
      "1/1 [==============================] - 0s 5ms/step - loss: 7.1325 - mae: 7.1325\n",
      "Epoch 62/100\n",
      "1/1 [==============================] - 0s 5ms/step - loss: 7.1269 - mae: 7.1269\n",
      "Epoch 63/100\n",
      "1/1 [==============================] - 0s 5ms/step - loss: 7.1213 - mae: 7.1213\n",
      "Epoch 64/100\n",
      "1/1 [==============================] - 0s 5ms/step - loss: 7.1156 - mae: 7.1156\n",
      "Epoch 65/100\n",
      "1/1 [==============================] - 0s 5ms/step - loss: 7.1100 - mae: 7.1100\n",
      "Epoch 66/100\n",
      "1/1 [==============================] - 0s 5ms/step - loss: 7.1044 - mae: 7.1044\n",
      "Epoch 67/100\n",
      "1/1 [==============================] - 0s 6ms/step - loss: 7.0988 - mae: 7.0988\n",
      "Epoch 68/100\n",
      "1/1 [==============================] - 0s 6ms/step - loss: 7.0931 - mae: 7.0931\n",
      "Epoch 69/100\n",
      "1/1 [==============================] - 0s 5ms/step - loss: 7.0875 - mae: 7.0875\n",
      "Epoch 70/100\n",
      "1/1 [==============================] - 0s 5ms/step - loss: 7.0819 - mae: 7.0819\n",
      "Epoch 71/100\n",
      "1/1 [==============================] - 0s 5ms/step - loss: 7.0763 - mae: 7.0763\n",
      "Epoch 72/100\n",
      "1/1 [==============================] - 0s 5ms/step - loss: 7.0706 - mae: 7.0706\n",
      "Epoch 73/100\n",
      "1/1 [==============================] - 0s 5ms/step - loss: 7.0650 - mae: 7.0650\n",
      "Epoch 74/100\n",
      "1/1 [==============================] - 0s 5ms/step - loss: 7.0594 - mae: 7.0594\n",
      "Epoch 75/100\n",
      "1/1 [==============================] - 0s 5ms/step - loss: 7.0538 - mae: 7.0538\n",
      "Epoch 76/100\n",
      "1/1 [==============================] - 0s 5ms/step - loss: 7.0481 - mae: 7.0481\n",
      "Epoch 77/100\n",
      "1/1 [==============================] - 0s 5ms/step - loss: 7.0425 - mae: 7.0425\n",
      "Epoch 78/100\n",
      "1/1 [==============================] - 0s 5ms/step - loss: 7.0369 - mae: 7.0369\n",
      "Epoch 79/100\n",
      "1/1 [==============================] - 0s 5ms/step - loss: 7.0312 - mae: 7.0312\n",
      "Epoch 80/100\n",
      "1/1 [==============================] - 0s 5ms/step - loss: 7.0256 - mae: 7.0256\n",
      "Epoch 81/100\n",
      "1/1 [==============================] - 0s 5ms/step - loss: 7.0200 - mae: 7.0200\n",
      "Epoch 82/100\n",
      "1/1 [==============================] - 0s 5ms/step - loss: 7.0144 - mae: 7.0144\n",
      "Epoch 83/100\n",
      "1/1 [==============================] - 0s 5ms/step - loss: 7.0088 - mae: 7.0088\n",
      "Epoch 84/100\n",
      "1/1 [==============================] - 0s 5ms/step - loss: 7.0031 - mae: 7.0031\n",
      "Epoch 85/100\n",
      "1/1 [==============================] - 0s 5ms/step - loss: 6.9975 - mae: 6.9975\n",
      "Epoch 86/100\n",
      "1/1 [==============================] - 0s 5ms/step - loss: 6.9919 - mae: 6.9919\n",
      "Epoch 87/100\n",
      "1/1 [==============================] - 0s 5ms/step - loss: 6.9863 - mae: 6.9863\n",
      "Epoch 88/100\n",
      "1/1 [==============================] - 0s 5ms/step - loss: 6.9806 - mae: 6.9806\n",
      "Epoch 89/100\n",
      "1/1 [==============================] - 0s 5ms/step - loss: 6.9750 - mae: 6.9750\n",
      "Epoch 90/100\n",
      "1/1 [==============================] - 0s 5ms/step - loss: 6.9694 - mae: 6.9694\n",
      "Epoch 91/100\n",
      "1/1 [==============================] - 0s 5ms/step - loss: 6.9638 - mae: 6.9638\n",
      "Epoch 92/100\n",
      "1/1 [==============================] - 0s 5ms/step - loss: 6.9581 - mae: 6.9581\n",
      "Epoch 93/100\n",
      "1/1 [==============================] - 0s 5ms/step - loss: 6.9525 - mae: 6.9525\n",
      "Epoch 94/100\n",
      "1/1 [==============================] - 0s 5ms/step - loss: 6.9469 - mae: 6.9469\n",
      "Epoch 95/100\n",
      "1/1 [==============================] - 0s 5ms/step - loss: 6.9413 - mae: 6.9413\n",
      "Epoch 96/100\n",
      "1/1 [==============================] - 0s 5ms/step - loss: 6.9356 - mae: 6.9356\n",
      "Epoch 97/100\n",
      "1/1 [==============================] - 0s 5ms/step - loss: 6.9300 - mae: 6.9300\n",
      "Epoch 98/100\n",
      "1/1 [==============================] - 0s 5ms/step - loss: 6.9244 - mae: 6.9244\n",
      "Epoch 99/100\n",
      "1/1 [==============================] - 0s 5ms/step - loss: 6.9188 - mae: 6.9188\n",
      "Epoch 100/100\n",
      "1/1 [==============================] - 0s 5ms/step - loss: 6.9131 - mae: 6.9131\n"
     ]
    },
    {
     "data": {
      "text/plain": [
       "<keras.src.callbacks.History at 0x294ac9d20>"
      ]
     },
     "execution_count": 22,
     "metadata": {},
     "output_type": "execute_result"
    }
   ],
   "source": [
    "# Lets rebuild the model\n",
    "\n",
    "# 1.Create the model\n",
    "model=tf.keras.Sequential(\n",
    "    [tf.keras.layers.Dense(1)]\n",
    ")\n",
    "\n",
    "# 2.Compile the Model\n",
    "model.compile(\n",
    "    loss=tf.keras.losses.mae,\n",
    "    optimizer=tf.keras.optimizers.legacy.SGD(),\n",
    "    metrics=[\"mae\"]\n",
    ")\n",
    "#3.fit the model\n",
    "model.fit(tf.expand_dims(x, axis=-1), y, epochs=100)"
   ]
  },
  {
   "cell_type": "code",
   "execution_count": 23,
   "id": "314839f3-839d-47a8-886d-89bd19e02515",
   "metadata": {},
   "outputs": [
    {
     "name": "stdout",
     "output_type": "stream",
     "text": [
      "1/1 [==============================] - 0s 26ms/step\n"
     ]
    },
    {
     "name": "stderr",
     "output_type": "stream",
     "text": [
      "2023-08-20 11:52:35.471464: I tensorflow/core/grappler/optimizers/custom_graph_optimizer_registry.cc:114] Plugin optimizer for device_type GPU is enabled.\n"
     ]
    },
    {
     "data": {
      "text/plain": [
       "array([[29.976524]], dtype=float32)"
      ]
     },
     "execution_count": 23,
     "metadata": {},
     "output_type": "execute_result"
    }
   ],
   "source": [
    "y_pred=model.predict([17.0])\n",
    "y_pred"
   ]
  },
  {
   "cell_type": "code",
   "execution_count": 24,
   "id": "e2fc0fe8-ff1a-483f-b342-960a383ef0ea",
   "metadata": {},
   "outputs": [
    {
     "name": "stdout",
     "output_type": "stream",
     "text": [
      "Epoch 1/100\n",
      "1/1 [==============================] - 0s 216ms/step - loss: 11.9634 - mae: 11.9634\n",
      "Epoch 2/100\n",
      "1/1 [==============================] - 0s 7ms/step - loss: 11.2752 - mae: 11.2752\n",
      "Epoch 3/100\n",
      "1/1 [==============================] - 0s 6ms/step - loss: 10.5829 - mae: 10.5829\n",
      "Epoch 4/100\n",
      "1/1 [==============================] - 0s 6ms/step - loss: 9.8843 - mae: 9.8843\n",
      "Epoch 5/100\n",
      "1/1 [==============================] - 0s 5ms/step - loss: 9.1765 - mae: 9.1765\n",
      "Epoch 6/100\n",
      "1/1 [==============================] - 0s 5ms/step - loss: 8.4567 - mae: 8.4567\n",
      "Epoch 7/100\n",
      "1/1 [==============================] - 0s 6ms/step - loss: 7.7219 - mae: 7.7219\n",
      "Epoch 8/100\n",
      "1/1 [==============================] - 0s 6ms/step - loss: 6.9694 - mae: 6.9694\n",
      "Epoch 9/100\n",
      "1/1 [==============================] - 0s 6ms/step - loss: 6.9258 - mae: 6.9258\n",
      "Epoch 10/100\n",
      "1/1 [==============================] - 0s 6ms/step - loss: 7.2398 - mae: 7.2398\n",
      "Epoch 11/100\n",
      "1/1 [==============================] - 0s 6ms/step - loss: 7.4309 - mae: 7.4309\n",
      "Epoch 12/100\n",
      "1/1 [==============================] - 0s 6ms/step - loss: 7.5562 - mae: 7.5562\n",
      "Epoch 13/100\n",
      "1/1 [==============================] - 0s 6ms/step - loss: 7.5333 - mae: 7.5333\n",
      "Epoch 14/100\n",
      "1/1 [==============================] - 0s 6ms/step - loss: 7.3385 - mae: 7.3385\n",
      "Epoch 15/100\n"
     ]
    },
    {
     "name": "stderr",
     "output_type": "stream",
     "text": [
      "2023-08-20 11:52:35.687073: I tensorflow/core/grappler/optimizers/custom_graph_optimizer_registry.cc:114] Plugin optimizer for device_type GPU is enabled.\n"
     ]
    },
    {
     "name": "stdout",
     "output_type": "stream",
     "text": [
      "1/1 [==============================] - 0s 6ms/step - loss: 7.1208 - mae: 7.1208\n",
      "Epoch 16/100\n",
      "1/1 [==============================] - 0s 6ms/step - loss: 6.8845 - mae: 6.8845\n",
      "Epoch 17/100\n",
      "1/1 [==============================] - 0s 6ms/step - loss: 6.6285 - mae: 6.6285\n",
      "Epoch 18/100\n",
      "1/1 [==============================] - 0s 6ms/step - loss: 6.3573 - mae: 6.3573\n",
      "Epoch 19/100\n",
      "1/1 [==============================] - 0s 6ms/step - loss: 6.2631 - mae: 6.2631\n",
      "Epoch 20/100\n",
      "1/1 [==============================] - 0s 6ms/step - loss: 6.2143 - mae: 6.2143\n",
      "Epoch 21/100\n",
      "1/1 [==============================] - 0s 6ms/step - loss: 6.3286 - mae: 6.3286\n",
      "Epoch 22/100\n",
      "1/1 [==============================] - 0s 6ms/step - loss: 6.3913 - mae: 6.3913\n",
      "Epoch 23/100\n",
      "1/1 [==============================] - 0s 6ms/step - loss: 6.3554 - mae: 6.3554\n",
      "Epoch 24/100\n",
      "1/1 [==============================] - 0s 6ms/step - loss: 6.2331 - mae: 6.2331\n",
      "Epoch 25/100\n",
      "1/1 [==============================] - 0s 6ms/step - loss: 6.0336 - mae: 6.0336\n",
      "Epoch 26/100\n",
      "1/1 [==============================] - 0s 6ms/step - loss: 5.7631 - mae: 5.7631\n",
      "Epoch 27/100\n",
      "1/1 [==============================] - 0s 6ms/step - loss: 5.6551 - mae: 5.6551\n",
      "Epoch 28/100\n",
      "1/1 [==============================] - 0s 6ms/step - loss: 5.5461 - mae: 5.5461\n",
      "Epoch 29/100\n",
      "1/1 [==============================] - 0s 6ms/step - loss: 5.5664 - mae: 5.5664\n",
      "Epoch 30/100\n",
      "1/1 [==============================] - 0s 6ms/step - loss: 5.5796 - mae: 5.5796\n",
      "Epoch 31/100\n",
      "1/1 [==============================] - 0s 6ms/step - loss: 5.5462 - mae: 5.5462\n",
      "Epoch 32/100\n",
      "1/1 [==============================] - 0s 6ms/step - loss: 5.4698 - mae: 5.4698\n",
      "Epoch 33/100\n",
      "1/1 [==============================] - 0s 6ms/step - loss: 5.3539 - mae: 5.3539\n",
      "Epoch 34/100\n",
      "1/1 [==============================] - 0s 6ms/step - loss: 5.2017 - mae: 5.2017\n",
      "Epoch 35/100\n",
      "1/1 [==============================] - 0s 6ms/step - loss: 5.0162 - mae: 5.0162\n",
      "Epoch 36/100\n",
      "1/1 [==============================] - 0s 6ms/step - loss: 4.8002 - mae: 4.8002\n",
      "Epoch 37/100\n",
      "1/1 [==============================] - 0s 6ms/step - loss: 4.6645 - mae: 4.6645\n",
      "Epoch 38/100\n",
      "1/1 [==============================] - 0s 6ms/step - loss: 4.5690 - mae: 4.5690\n",
      "Epoch 39/100\n",
      "1/1 [==============================] - 0s 6ms/step - loss: 4.5158 - mae: 4.5158\n",
      "Epoch 40/100\n",
      "1/1 [==============================] - 0s 5ms/step - loss: 4.4426 - mae: 4.4426\n",
      "Epoch 41/100\n",
      "1/1 [==============================] - 0s 6ms/step - loss: 4.2552 - mae: 4.2552\n",
      "Epoch 42/100\n",
      "1/1 [==============================] - 0s 6ms/step - loss: 4.0507 - mae: 4.0507\n",
      "Epoch 43/100\n",
      "1/1 [==============================] - 0s 6ms/step - loss: 3.8892 - mae: 3.8892\n",
      "Epoch 44/100\n",
      "1/1 [==============================] - 0s 6ms/step - loss: 3.7457 - mae: 3.7457\n",
      "Epoch 45/100\n",
      "1/1 [==============================] - 0s 6ms/step - loss: 3.6447 - mae: 3.6447\n",
      "Epoch 46/100\n",
      "1/1 [==============================] - 0s 18ms/step - loss: 3.4908 - mae: 3.4908\n",
      "Epoch 47/100\n",
      "1/1 [==============================] - 0s 10ms/step - loss: 3.2866 - mae: 3.2866\n",
      "Epoch 48/100\n",
      "1/1 [==============================] - 0s 6ms/step - loss: 3.0674 - mae: 3.0674\n",
      "Epoch 49/100\n",
      "1/1 [==============================] - 0s 6ms/step - loss: 2.8948 - mae: 2.8948\n",
      "Epoch 50/100\n",
      "1/1 [==============================] - 0s 6ms/step - loss: 2.7108 - mae: 2.7108\n",
      "Epoch 51/100\n",
      "1/1 [==============================] - 0s 6ms/step - loss: 2.5554 - mae: 2.5554\n",
      "Epoch 52/100\n",
      "1/1 [==============================] - 0s 9ms/step - loss: 2.2968 - mae: 2.2968\n",
      "Epoch 53/100\n",
      "1/1 [==============================] - 0s 6ms/step - loss: 2.0675 - mae: 2.0675\n",
      "Epoch 54/100\n",
      "1/1 [==============================] - 0s 6ms/step - loss: 1.8269 - mae: 1.8269\n",
      "Epoch 55/100\n",
      "1/1 [==============================] - 0s 6ms/step - loss: 1.6526 - mae: 1.6526\n",
      "Epoch 56/100\n",
      "1/1 [==============================] - 0s 6ms/step - loss: 1.4068 - mae: 1.4068\n",
      "Epoch 57/100\n",
      "1/1 [==============================] - 0s 6ms/step - loss: 1.0885 - mae: 1.0885\n",
      "Epoch 58/100\n",
      "1/1 [==============================] - 0s 6ms/step - loss: 0.8986 - mae: 0.8986\n",
      "Epoch 59/100\n",
      "1/1 [==============================] - 0s 6ms/step - loss: 0.6410 - mae: 0.6410\n",
      "Epoch 60/100\n",
      "1/1 [==============================] - 0s 6ms/step - loss: 0.2486 - mae: 0.2486\n",
      "Epoch 61/100\n",
      "1/1 [==============================] - 0s 6ms/step - loss: 0.1303 - mae: 0.1303\n",
      "Epoch 62/100\n",
      "1/1 [==============================] - 0s 6ms/step - loss: 0.3298 - mae: 0.3298\n",
      "Epoch 63/100\n",
      "1/1 [==============================] - 0s 6ms/step - loss: 0.4688 - mae: 0.4688\n",
      "Epoch 64/100\n",
      "1/1 [==============================] - 0s 6ms/step - loss: 0.6148 - mae: 0.6148\n",
      "Epoch 65/100\n",
      "1/1 [==============================] - 0s 6ms/step - loss: 0.6760 - mae: 0.6760\n",
      "Epoch 66/100\n",
      "1/1 [==============================] - 0s 6ms/step - loss: 0.7030 - mae: 0.7030\n",
      "Epoch 67/100\n",
      "1/1 [==============================] - 0s 6ms/step - loss: 0.6490 - mae: 0.6490\n",
      "Epoch 68/100\n",
      "1/1 [==============================] - 0s 6ms/step - loss: 0.6278 - mae: 0.6278\n",
      "Epoch 69/100\n",
      "1/1 [==============================] - 0s 6ms/step - loss: 0.5151 - mae: 0.5151\n",
      "Epoch 70/100\n",
      "1/1 [==============================] - 0s 6ms/step - loss: 0.4061 - mae: 0.4061\n",
      "Epoch 71/100\n",
      "1/1 [==============================] - 0s 6ms/step - loss: 0.2754 - mae: 0.2754\n",
      "Epoch 72/100\n",
      "1/1 [==============================] - 0s 6ms/step - loss: 0.1268 - mae: 0.1268\n",
      "Epoch 73/100\n",
      "1/1 [==============================] - 0s 6ms/step - loss: 0.1279 - mae: 0.1279\n",
      "Epoch 74/100\n",
      "1/1 [==============================] - 0s 6ms/step - loss: 0.2674 - mae: 0.2674\n",
      "Epoch 75/100\n",
      "1/1 [==============================] - 0s 6ms/step - loss: 0.3148 - mae: 0.3148\n",
      "Epoch 76/100\n",
      "1/1 [==============================] - 0s 6ms/step - loss: 0.4040 - mae: 0.4040\n",
      "Epoch 77/100\n",
      "1/1 [==============================] - 0s 6ms/step - loss: 0.4079 - mae: 0.4079\n",
      "Epoch 78/100\n",
      "1/1 [==============================] - 0s 6ms/step - loss: 0.3353 - mae: 0.3353\n",
      "Epoch 79/100\n",
      "1/1 [==============================] - 0s 6ms/step - loss: 0.2908 - mae: 0.2908\n",
      "Epoch 80/100\n",
      "1/1 [==============================] - 0s 6ms/step - loss: 0.2780 - mae: 0.2780\n",
      "Epoch 81/100\n",
      "1/1 [==============================] - 0s 6ms/step - loss: 0.1807 - mae: 0.1807\n",
      "Epoch 82/100\n",
      "1/1 [==============================] - 0s 6ms/step - loss: 0.2130 - mae: 0.2130\n",
      "Epoch 83/100\n",
      "1/1 [==============================] - 0s 5ms/step - loss: 0.2104 - mae: 0.2104\n",
      "Epoch 84/100\n",
      "1/1 [==============================] - 0s 7ms/step - loss: 0.2232 - mae: 0.2232\n",
      "Epoch 85/100\n",
      "1/1 [==============================] - 0s 6ms/step - loss: 0.2907 - mae: 0.2907\n",
      "Epoch 86/100\n",
      "1/1 [==============================] - 0s 6ms/step - loss: 0.1863 - mae: 0.1863\n",
      "Epoch 87/100\n",
      "1/1 [==============================] - 0s 6ms/step - loss: 0.2567 - mae: 0.2567\n",
      "Epoch 88/100\n",
      "1/1 [==============================] - 0s 6ms/step - loss: 0.2093 - mae: 0.2093\n",
      "Epoch 89/100\n",
      "1/1 [==============================] - 0s 6ms/step - loss: 0.1427 - mae: 0.1427\n",
      "Epoch 90/100\n",
      "1/1 [==============================] - 0s 6ms/step - loss: 0.1571 - mae: 0.1571\n",
      "Epoch 91/100\n",
      "1/1 [==============================] - 0s 6ms/step - loss: 0.1942 - mae: 0.1942\n",
      "Epoch 92/100\n",
      "1/1 [==============================] - 0s 6ms/step - loss: 0.2225 - mae: 0.2225\n",
      "Epoch 93/100\n",
      "1/1 [==============================] - 0s 6ms/step - loss: 0.0646 - mae: 0.0646\n",
      "Epoch 94/100\n",
      "1/1 [==============================] - 0s 6ms/step - loss: 0.3658 - mae: 0.3658\n",
      "Epoch 95/100\n",
      "1/1 [==============================] - 0s 6ms/step - loss: 0.4010 - mae: 0.4010\n",
      "Epoch 96/100\n",
      "1/1 [==============================] - 0s 6ms/step - loss: 0.1944 - mae: 0.1944\n",
      "Epoch 97/100\n",
      "1/1 [==============================] - 0s 6ms/step - loss: 0.2985 - mae: 0.2985\n",
      "Epoch 98/100\n",
      "1/1 [==============================] - 0s 6ms/step - loss: 0.4015 - mae: 0.4015\n",
      "Epoch 99/100\n",
      "1/1 [==============================] - 0s 6ms/step - loss: 0.2224 - mae: 0.2224\n",
      "Epoch 100/100\n",
      "1/1 [==============================] - 0s 6ms/step - loss: 0.2174 - mae: 0.2174\n"
     ]
    },
    {
     "data": {
      "text/plain": [
       "<keras.src.callbacks.History at 0x297976680>"
      ]
     },
     "execution_count": 24,
     "metadata": {},
     "output_type": "execute_result"
    }
   ],
   "source": [
    "#Adding Adam optimizer\n",
    "# Lets rebuild the model\n",
    "\n",
    "# 1.Create the model\n",
    "model=tf.keras.Sequential(\n",
    "    [\n",
    "        tf.keras.layers.Dense(50,activation=None),\n",
    "        tf.keras.layers.Dense(1)\n",
    "    ]\n",
    ")\n",
    "\n",
    "# 2.Compile the Model\n",
    "model.compile(\n",
    "    loss=tf.keras.losses.mae,\n",
    "    optimizer=tf.keras.optimizers.legacy.Adam(lr=0.01),\n",
    "    metrics=[\"mae\"]\n",
    ")\n",
    "#3.fit the model\n",
    "model.fit(tf.expand_dims(x, axis=-1), y, epochs=100)"
   ]
  },
  {
   "cell_type": "code",
   "execution_count": 25,
   "id": "318898b8-9d64-4a34-b3dc-cf47dad8359f",
   "metadata": {},
   "outputs": [
    {
     "name": "stdout",
     "output_type": "stream",
     "text": [
      "1/1 [==============================] - 0s 34ms/step\n"
     ]
    },
    {
     "name": "stderr",
     "output_type": "stream",
     "text": [
      "2023-08-20 11:52:36.581554: I tensorflow/core/grappler/optimizers/custom_graph_optimizer_registry.cc:114] Plugin optimizer for device_type GPU is enabled.\n"
     ]
    },
    {
     "data": {
      "text/plain": [
       "array([[27.80574 ],\n",
       "       [17.370941]], dtype=float32)"
      ]
     },
     "execution_count": 25,
     "metadata": {},
     "output_type": "execute_result"
    }
   ],
   "source": [
    "model.predict([17.0,7.0])"
   ]
  },
  {
   "cell_type": "code",
   "execution_count": 26,
   "id": "60431303-934c-4b8a-af84-a02e9ebd946c",
   "metadata": {},
   "outputs": [],
   "source": [
    "##Evaluting a model"
   ]
  },
  {
   "cell_type": "code",
   "execution_count": 27,
   "id": "af02261e-934a-4513-ad03-5e7969c1dd35",
   "metadata": {},
   "outputs": [
    {
     "data": {
      "text/plain": [
       "<tf.Tensor: shape=(50,), dtype=int32, numpy=\n",
       "array([-100,  -96,  -92,  -88,  -84,  -80,  -76,  -72,  -68,  -64,  -60,\n",
       "        -56,  -52,  -48,  -44,  -40,  -36,  -32,  -28,  -24,  -20,  -16,\n",
       "        -12,   -8,   -4,    0,    4,    8,   12,   16,   20,   24,   28,\n",
       "         32,   36,   40,   44,   48,   52,   56,   60,   64,   68,   72,\n",
       "         76,   80,   84,   88,   92,   96], dtype=int32)>"
      ]
     },
     "execution_count": 27,
     "metadata": {},
     "output_type": "execute_result"
    }
   ],
   "source": [
    "x=tf.range(-100,100,4)\n",
    "x"
   ]
  },
  {
   "cell_type": "code",
   "execution_count": 28,
   "id": "ccefff89-3304-4998-be19-9f63ea7b46e7",
   "metadata": {},
   "outputs": [],
   "source": [
    "y=x+10"
   ]
  },
  {
   "cell_type": "code",
   "execution_count": 29,
   "id": "df3c86d8-5407-4de6-a651-7679c998a728",
   "metadata": {},
   "outputs": [
    {
     "data": {
      "text/plain": [
       "<tf.Tensor: shape=(50,), dtype=int32, numpy=\n",
       "array([-90, -86, -82, -78, -74, -70, -66, -62, -58, -54, -50, -46, -42,\n",
       "       -38, -34, -30, -26, -22, -18, -14, -10,  -6,  -2,   2,   6,  10,\n",
       "        14,  18,  22,  26,  30,  34,  38,  42,  46,  50,  54,  58,  62,\n",
       "        66,  70,  74,  78,  82,  86,  90,  94,  98, 102, 106], dtype=int32)>"
      ]
     },
     "execution_count": 29,
     "metadata": {},
     "output_type": "execute_result"
    }
   ],
   "source": [
    "y"
   ]
  },
  {
   "cell_type": "code",
   "execution_count": 30,
   "id": "b0a144d3-1ffe-4148-9507-93697f155ce6",
   "metadata": {},
   "outputs": [
    {
     "data": {
      "text/plain": [
       "<matplotlib.collections.PathCollection at 0x29b129540>"
      ]
     },
     "execution_count": 30,
     "metadata": {},
     "output_type": "execute_result"
    },
    {
     "data": {
      "image/png": "[encoded data removed]",
      "text/plain": [
       "<Figure size 640x480 with 1 Axes>"
      ]
     },
     "metadata": {},
     "output_type": "display_data"
    }
   ],
   "source": [
    "#visulizing the data\n",
    "import matplotlib.pyplot as plt\n",
    "\n",
    "plt.scatter(x,y)"
   ]
  },
  {
   "cell_type": "code",
   "execution_count": 31,
   "id": "b67cc47b-c6d4-44aa-b228-b390eb49e34e",
   "metadata": {},
   "outputs": [
    {
     "data": {
      "text/plain": [
       "<matplotlib.collections.PathCollection at 0x2938aea10>"
      ]
     },
     "execution_count": 31,
     "metadata": {},
     "output_type": "execute_result"
    },
    {
     "data": {
      "image/png": "[encoded data removed]",
      "text/plain": [
       "<Figure size 640x480 with 1 Axes>"
      ]
     },
     "metadata": {},
     "output_type": "display_data"
    }
   ],
   "source": [
    "plt.scatter(y,x)"
   ]
  },
  {
   "cell_type": "markdown",
   "id": "257c436a-e565-47d7-8e03-192e3c2b0611",
   "metadata": {},
   "source": [
    "### The 3 sets...\n",
    "***Traning set***-the model learns from this data,which is typically 70-80% of the total data i have available.\n",
    "\n",
    "***Validation set***- the model gets tuned on this data, which is typically 10-15% of the data available.\n",
    "\n",
    "***Test set***- the model gets evaluated on this data to test what is has learned, this set typically 10-15% of the total data available"
   ]
  },
  {
   "cell_type": "code",
   "execution_count": 32,
   "id": "5a059edd-9aeb-4c51-844a-2af3f7480802",
   "metadata": {},
   "outputs": [
    {
     "data": {
      "text/plain": [
       "50"
      ]
     },
     "execution_count": 32,
     "metadata": {},
     "output_type": "execute_result"
    }
   ],
   "source": [
    "#check the length of how many samples we have\n",
    "len(x)"
   ]
  },
  {
   "cell_type": "code",
   "execution_count": 33,
   "id": "317f2dc9-3340-4e08-a460-15ac82697f73",
   "metadata": {},
   "outputs": [
    {
     "data": {
      "text/plain": [
       "(40, 40, 10, 10)"
      ]
     },
     "execution_count": 33,
     "metadata": {},
     "output_type": "execute_result"
    }
   ],
   "source": [
    "#Split the data into train and test set\n",
    "x_train=x[:40]\n",
    "y_train=y[:40]\n",
    "x_test=x[40:]\n",
    "y_test=y[40:]\n",
    "len(x_train),len(y_train),len(x_test),len(y_test)"
   ]
  },
  {
   "cell_type": "code",
   "execution_count": 34,
   "id": "c65613c9-6104-4427-9d92-05ccdc9b3a34",
   "metadata": {},
   "outputs": [
    {
     "data": {
      "image/png": "[encoded data removed]",
      "text/plain": [
       "<Figure size 1000x700 with 1 Axes>"
      ]
     },
     "metadata": {},
     "output_type": "display_data"
    }
   ],
   "source": [
    "#visualizing the data\n",
    "plt.figure(figsize=(10,7))\n",
    "#plot training data in blue\n",
    "plt.scatter(x_train,y_train,c=\"b\",label=\"Training data\")\n",
    "#plot training data in green\n",
    "plt.scatter(x_test,y_test,c=\"g\",label=\"Testing data\")\n",
    "#Show a legend\n",
    "plt.legend();"
   ]
  },
  {
   "cell_type": "code",
   "execution_count": 35,
   "id": "6645d76e-bb28-4fe4-b389-ddfd2a2b7fd6",
   "metadata": {},
   "outputs": [],
   "source": [
    "# Lets have a look at how to build a neural nwtwork for our data\n",
    "\n",
    "#1.Create the model\n",
    "model=tf.keras.Sequential([\n",
    "    tf.keras.layers.Dense(1)\n",
    "])\n",
    "\n",
    "# 2. Compile the model \n",
    "model.compile(\n",
    "    loss=tf.keras.losses.mae,\n",
    "    optimizer=tf.keras.optimizers.legacy.SGD(),\n",
    "    metrics=[\"mae\"]\n",
    ")\n",
    "# 3. Fit the model\n",
    "# model.fit(tf.expand_dims(x, axis=-1), y, epochs=100)"
   ]
  },
  {
   "cell_type": "code",
   "execution_count": 36,
   "id": "119b5870-a4e4-4402-88ed-50cb60ee502b",
   "metadata": {},
   "outputs": [
    {
     "data": {
      "text/plain": [
       "(<tf.Tensor: shape=(), dtype=int32, numpy=-100>,\n",
       " <tf.Tensor: shape=(), dtype=int32, numpy=-90>)"
      ]
     },
     "execution_count": 36,
     "metadata": {},
     "output_type": "execute_result"
    }
   ],
   "source": [
    "x[0],y[0]"
   ]
  },
  {
   "cell_type": "code",
   "execution_count": 50,
   "id": "489801f2-dfde-4241-a688-b751410da73e",
   "metadata": {},
   "outputs": [],
   "source": [
    "#Let's create a model which builds automatically by defining the input_shape argument in the first layer\n",
    "tf.random.set_seed(42)\n",
    "\n",
    "#1.create a model (same as above)\n",
    "model=tf.keras.Sequential([\n",
    "    tf.keras.layers.Dense(10,input_shape=[1],name=\"input_layer\"),\n",
    "    tf.keras.layers.Dense(1,name=\"output_layer\")\n",
    "],name=\"model_1\")\n",
    "\n",
    "# 2.compile the model\n",
    "model.compile(\n",
    "    loss=tf.keras.losses.mae,\n",
    "    optimizer=tf.keras.optimizers.legacy.SGD(),\n",
    "    metrics=[\"mae\"]\n",
    ")"
   ]
  },
  {
   "cell_type": "code",
   "execution_count": 51,
   "id": "b342b1c8-cf55-45ec-af46-12268c8f2e62",
   "metadata": {},
   "outputs": [
    {
     "name": "stdout",
     "output_type": "stream",
     "text": [
      "Model: \"model_1\"\n",
      "_________________________________________________________________\n",
      " Layer (type)                Output Shape              Param #   \n",
      "=================================================================\n",
      " input_layer (Dense)         (None, 10)                20        \n",
      "                                                                 \n",
      " output_layer (Dense)        (None, 1)                 11        \n",
      "                                                                 \n",
      "=================================================================\n",
      "Total params: 31 (124.00 Byte)\n",
      "Trainable params: 31 (124.00 Byte)\n",
      "Non-trainable params: 0 (0.00 Byte)\n",
      "_________________________________________________________________\n"
     ]
    }
   ],
   "source": [
    "model.summary()"
   ]
  },
  {
   "cell_type": "code",
   "execution_count": 52,
   "id": "038d083c-f2fb-45a0-87e4-ab48eb01ce3b",
   "metadata": {
    "notebookRunGroups": {
     "groupValue": ""
    }
   },
   "outputs": [
    {
     "name": "stderr",
     "output_type": "stream",
     "text": [
      "2023-08-20 12:00:18.830729: I tensorflow/core/grappler/optimizers/custom_graph_optimizer_registry.cc:114] Plugin optimizer for device_type GPU is enabled.\n"
     ]
    },
    {
     "data": {
      "text/plain": [
       "<keras.src.callbacks.History at 0x29753dcf0>"
      ]
     },
     "execution_count": 52,
     "metadata": {},
     "output_type": "execute_result"
    }
   ],
   "source": [
    "#lets fit our model to the training data\n",
    "model.fit(x_train,y_train,epochs=100,verbose=0)"
   ]
  },
  {
   "cell_type": "code",
   "execution_count": 53,
   "id": "0c2f5a34",
   "metadata": {},
   "outputs": [
    {
     "name": "stdout",
     "output_type": "stream",
     "text": [
      "Model: \"model_1\"\n",
      "_________________________________________________________________\n",
      " Layer (type)                Output Shape              Param #   \n",
      "=================================================================\n",
      " input_layer (Dense)         (None, 10)                20        \n",
      "                                                                 \n",
      " output_layer (Dense)        (None, 1)                 11        \n",
      "                                                                 \n",
      "=================================================================\n",
      "Total params: 31 (124.00 Byte)\n",
      "Trainable params: 31 (124.00 Byte)\n",
      "Non-trainable params: 0 (0.00 Byte)\n",
      "_________________________________________________________________\n"
     ]
    }
   ],
   "source": [
    "#get a summary of our model\n",
    "model.summary()"
   ]
  },
  {
   "cell_type": "code",
   "execution_count": 54,
   "id": "1fada02d",
   "metadata": {},
   "outputs": [
    {
     "data": {
      "image/png": "[encoded data removed]",
      "text/plain": [
       "<IPython.core.display.Image object>"
      ]
     },
     "execution_count": 54,
     "metadata": {},
     "output_type": "execute_result"
    }
   ],
   "source": [
    "from tensorflow.keras.utils import plot_model\n",
    "plot_model(model=model,show_shapes=True)"
   ]
  },
  {
   "cell_type": "code",
   "execution_count": null,
   "id": "a281e687",
   "metadata": {},
   "outputs": [],
   "source": []
  }
 ],
 "metadata": {
  "kernelspec": {
   "display_name": "Python 3 (ipykernel)",
   "language": "python",
   "name": "python3"
  },
  "language_info": {
   "codemirror_mode": {
    "name": "ipython",
    "version": 3
   },
   "file_extension": ".py",
   "mimetype": "text/x-python",
   "name": "python",
   "nbconvert_exporter": "python",
   "pygments_lexer": "ipython3",
   "version": "3.10.12"
  }
 },
 "nbformat": 4,
 "nbformat_minor": 5
}
